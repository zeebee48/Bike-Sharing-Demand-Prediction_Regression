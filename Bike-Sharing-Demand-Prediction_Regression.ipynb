{
 "cells": [
  {
   "cell_type": "markdown",
   "id": "106d1a57-9e7e-4a88-90eb-197cfb9bad87",
   "metadata": {},
   "source": [
    "## Problem Statement : \n",
    "A bike-sharing system is a service in which bikes are made available for shared use to individuals on a short term basis for a price or free. Many bike share systems allow people to borrow a bike from a \"dock\" which is usually computer-controlled wherein the user enters the payment information, and the system unlocks it. This bike can then be returned to another dock belonging to the same system.\n",
    "\n",
    "A US bike-sharing provider BoomBikes has recently suffered considerable dips in their revenues due to the ongoing Corona pandemic. The company is finding it very difficult to sustain in the current market scenario. So, they have contracted a consulting company to understand the factors on which the demand for these shared bikes depends. Specifically, they want to understand the factors affecting the demand for these shared bikes in the American market. The company wants to know:\n",
    "-\tWhich variables are significant in predicting the demand for shared bikes.\n",
    "-\tHow well those variables describe the bike demands\n",
    "\n",
    "Based on various meteorological surveys and people's styles, the service provider firm has gathered a large dataset on daily bike demands across the American market based on some factors.\n",
    "\n",
    "## Business Goal: \n",
    "You are required to model the demand for shared bikes with the available independent variables. It will be used by the management to understand how exactly the demands vary with different features. They can accordingly manipulate the business strategy to meet the demand levels and meet the customer's expectations. Further, the model will be a good way for management to understand the demand dynamics of a new market. \n"
   ]
  },
  {
   "cell_type": "code",
   "execution_count": 1,
   "id": "934ff05f-a612-450a-a747-d0fb0bcfc92d",
   "metadata": {},
   "outputs": [],
   "source": [
    "import warnings\n",
    "warnings.filterwarnings('ignore')"
   ]
  },
  {
   "cell_type": "code",
   "execution_count": 2,
   "id": "d53fd7c6-3518-4605-9ad6-d90a659e44d3",
   "metadata": {},
   "outputs": [],
   "source": [
    "import numpy as np\n",
    "import pandas as pd\n",
    "import matplotlib.pyplot as plt\n",
    "import seaborn as sns"
   ]
  },
  {
   "cell_type": "code",
   "execution_count": 3,
   "id": "739d0ec2-bbb1-47b5-b047-7db148908351",
   "metadata": {},
   "outputs": [],
   "source": [
    "pd.set_option(\"display.max_columns\", 500)\n",
    "pd.set_option(\"display.max_rows\", 500)"
   ]
  },
  {
   "cell_type": "markdown",
   "id": "0349deb4-6fd8-4880-9ef2-b22a00430980",
   "metadata": {},
   "source": [
    "## Data Loading & understanding"
   ]
  },
  {
   "cell_type": "code",
   "execution_count": 4,
   "id": "d9f9b872-5ef6-4597-941e-6d5daa5a53bb",
   "metadata": {},
   "outputs": [],
   "source": [
    "df = pd.read_csv(\"day.csv\")"
   ]
  },
  {
   "cell_type": "code",
   "execution_count": 5,
   "id": "9b2a8646-9e7b-408f-9cf8-6b2ebb421863",
   "metadata": {},
   "outputs": [
    {
     "data": {
      "text/plain": [
       "(730, 16)"
      ]
     },
     "execution_count": 5,
     "metadata": {},
     "output_type": "execute_result"
    }
   ],
   "source": [
    "df.shape"
   ]
  },
  {
   "cell_type": "code",
   "execution_count": 6,
   "id": "9e23dd2b-f26c-476e-8ba8-0eb960f46e21",
   "metadata": {},
   "outputs": [
    {
     "data": {
      "text/html": [
       "<div>\n",
       "<style scoped>\n",
       "    .dataframe tbody tr th:only-of-type {\n",
       "        vertical-align: middle;\n",
       "    }\n",
       "\n",
       "    .dataframe tbody tr th {\n",
       "        vertical-align: top;\n",
       "    }\n",
       "\n",
       "    .dataframe thead th {\n",
       "        text-align: right;\n",
       "    }\n",
       "</style>\n",
       "<table border=\"1\" class=\"dataframe\">\n",
       "  <thead>\n",
       "    <tr style=\"text-align: right;\">\n",
       "      <th></th>\n",
       "      <th>instant</th>\n",
       "      <th>dteday</th>\n",
       "      <th>season</th>\n",
       "      <th>yr</th>\n",
       "      <th>mnth</th>\n",
       "      <th>holiday</th>\n",
       "      <th>weekday</th>\n",
       "      <th>workingday</th>\n",
       "      <th>weathersit</th>\n",
       "      <th>temp</th>\n",
       "      <th>atemp</th>\n",
       "      <th>hum</th>\n",
       "      <th>windspeed</th>\n",
       "      <th>casual</th>\n",
       "      <th>registered</th>\n",
       "      <th>cnt</th>\n",
       "    </tr>\n",
       "  </thead>\n",
       "  <tbody>\n",
       "    <tr>\n",
       "      <th>496</th>\n",
       "      <td>497</td>\n",
       "      <td>12-05-2019</td>\n",
       "      <td>2</td>\n",
       "      <td>1</td>\n",
       "      <td>5</td>\n",
       "      <td>0</td>\n",
       "      <td>6</td>\n",
       "      <td>0</td>\n",
       "      <td>1</td>\n",
       "      <td>23.130847</td>\n",
       "      <td>27.24085</td>\n",
       "      <td>48.0417</td>\n",
       "      <td>8.249911</td>\n",
       "      <td>2622</td>\n",
       "      <td>4807</td>\n",
       "      <td>7429</td>\n",
       "    </tr>\n",
       "    <tr>\n",
       "      <th>312</th>\n",
       "      <td>313</td>\n",
       "      <td>09-11-2018</td>\n",
       "      <td>4</td>\n",
       "      <td>0</td>\n",
       "      <td>11</td>\n",
       "      <td>0</td>\n",
       "      <td>3</td>\n",
       "      <td>1</td>\n",
       "      <td>1</td>\n",
       "      <td>16.400000</td>\n",
       "      <td>20.45395</td>\n",
       "      <td>75.8333</td>\n",
       "      <td>4.167119</td>\n",
       "      <td>305</td>\n",
       "      <td>3804</td>\n",
       "      <td>4109</td>\n",
       "    </tr>\n",
       "    <tr>\n",
       "      <th>487</th>\n",
       "      <td>488</td>\n",
       "      <td>03-05-2019</td>\n",
       "      <td>2</td>\n",
       "      <td>1</td>\n",
       "      <td>5</td>\n",
       "      <td>0</td>\n",
       "      <td>4</td>\n",
       "      <td>1</td>\n",
       "      <td>2</td>\n",
       "      <td>22.960000</td>\n",
       "      <td>26.86210</td>\n",
       "      <td>76.8333</td>\n",
       "      <td>8.957632</td>\n",
       "      <td>764</td>\n",
       "      <td>5657</td>\n",
       "      <td>6421</td>\n",
       "    </tr>\n",
       "    <tr>\n",
       "      <th>636</th>\n",
       "      <td>637</td>\n",
       "      <td>29-09-2019</td>\n",
       "      <td>4</td>\n",
       "      <td>1</td>\n",
       "      <td>9</td>\n",
       "      <td>0</td>\n",
       "      <td>6</td>\n",
       "      <td>0</td>\n",
       "      <td>1</td>\n",
       "      <td>22.242500</td>\n",
       "      <td>26.51480</td>\n",
       "      <td>54.2917</td>\n",
       "      <td>15.249468</td>\n",
       "      <td>2589</td>\n",
       "      <td>5966</td>\n",
       "      <td>8555</td>\n",
       "    </tr>\n",
       "    <tr>\n",
       "      <th>587</th>\n",
       "      <td>588</td>\n",
       "      <td>11-08-2019</td>\n",
       "      <td>3</td>\n",
       "      <td>1</td>\n",
       "      <td>8</td>\n",
       "      <td>0</td>\n",
       "      <td>6</td>\n",
       "      <td>0</td>\n",
       "      <td>2</td>\n",
       "      <td>28.392500</td>\n",
       "      <td>31.91335</td>\n",
       "      <td>73.2917</td>\n",
       "      <td>13.834093</td>\n",
       "      <td>2247</td>\n",
       "      <td>4052</td>\n",
       "      <td>6299</td>\n",
       "    </tr>\n",
       "  </tbody>\n",
       "</table>\n",
       "</div>"
      ],
      "text/plain": [
       "     instant      dteday  season  yr  mnth  holiday  weekday  workingday  \\\n",
       "496      497  12-05-2019       2   1     5        0        6           0   \n",
       "312      313  09-11-2018       4   0    11        0        3           1   \n",
       "487      488  03-05-2019       2   1     5        0        4           1   \n",
       "636      637  29-09-2019       4   1     9        0        6           0   \n",
       "587      588  11-08-2019       3   1     8        0        6           0   \n",
       "\n",
       "     weathersit       temp     atemp      hum  windspeed  casual  registered  \\\n",
       "496           1  23.130847  27.24085  48.0417   8.249911    2622        4807   \n",
       "312           1  16.400000  20.45395  75.8333   4.167119     305        3804   \n",
       "487           2  22.960000  26.86210  76.8333   8.957632     764        5657   \n",
       "636           1  22.242500  26.51480  54.2917  15.249468    2589        5966   \n",
       "587           2  28.392500  31.91335  73.2917  13.834093    2247        4052   \n",
       "\n",
       "      cnt  \n",
       "496  7429  \n",
       "312  4109  \n",
       "487  6421  \n",
       "636  8555  \n",
       "587  6299  "
      ]
     },
     "execution_count": 6,
     "metadata": {},
     "output_type": "execute_result"
    }
   ],
   "source": [
    "df.sample(5)"
   ]
  },
  {
   "cell_type": "code",
   "execution_count": 7,
   "id": "db3f0e5b-400e-4c7f-a7dc-8d0d79b94fc0",
   "metadata": {},
   "outputs": [
    {
     "name": "stdout",
     "output_type": "stream",
     "text": [
      "<class 'pandas.core.frame.DataFrame'>\n",
      "RangeIndex: 730 entries, 0 to 729\n",
      "Data columns (total 16 columns):\n",
      " #   Column      Non-Null Count  Dtype  \n",
      "---  ------      --------------  -----  \n",
      " 0   instant     730 non-null    int64  \n",
      " 1   dteday      730 non-null    object \n",
      " 2   season      730 non-null    int64  \n",
      " 3   yr          730 non-null    int64  \n",
      " 4   mnth        730 non-null    int64  \n",
      " 5   holiday     730 non-null    int64  \n",
      " 6   weekday     730 non-null    int64  \n",
      " 7   workingday  730 non-null    int64  \n",
      " 8   weathersit  730 non-null    int64  \n",
      " 9   temp        730 non-null    float64\n",
      " 10  atemp       730 non-null    float64\n",
      " 11  hum         730 non-null    float64\n",
      " 12  windspeed   730 non-null    float64\n",
      " 13  casual      730 non-null    int64  \n",
      " 14  registered  730 non-null    int64  \n",
      " 15  cnt         730 non-null    int64  \n",
      "dtypes: float64(4), int64(11), object(1)\n",
      "memory usage: 91.4+ KB\n"
     ]
    }
   ],
   "source": [
    "df.info()"
   ]
  },
  {
   "cell_type": "code",
   "execution_count": 8,
   "id": "ca8d9053-ad49-44c3-bd9d-73c4e5c09265",
   "metadata": {},
   "outputs": [
    {
     "data": {
      "text/html": [
       "<div>\n",
       "<style scoped>\n",
       "    .dataframe tbody tr th:only-of-type {\n",
       "        vertical-align: middle;\n",
       "    }\n",
       "\n",
       "    .dataframe tbody tr th {\n",
       "        vertical-align: top;\n",
       "    }\n",
       "\n",
       "    .dataframe thead th {\n",
       "        text-align: right;\n",
       "    }\n",
       "</style>\n",
       "<table border=\"1\" class=\"dataframe\">\n",
       "  <thead>\n",
       "    <tr style=\"text-align: right;\">\n",
       "      <th></th>\n",
       "      <th>instant</th>\n",
       "      <th>season</th>\n",
       "      <th>yr</th>\n",
       "      <th>mnth</th>\n",
       "      <th>holiday</th>\n",
       "      <th>weekday</th>\n",
       "      <th>workingday</th>\n",
       "      <th>weathersit</th>\n",
       "      <th>temp</th>\n",
       "      <th>atemp</th>\n",
       "      <th>hum</th>\n",
       "      <th>windspeed</th>\n",
       "      <th>casual</th>\n",
       "      <th>registered</th>\n",
       "      <th>cnt</th>\n",
       "    </tr>\n",
       "  </thead>\n",
       "  <tbody>\n",
       "    <tr>\n",
       "      <th>count</th>\n",
       "      <td>730.000000</td>\n",
       "      <td>730.000000</td>\n",
       "      <td>730.000000</td>\n",
       "      <td>730.000000</td>\n",
       "      <td>730.000000</td>\n",
       "      <td>730.000000</td>\n",
       "      <td>730.000000</td>\n",
       "      <td>730.000000</td>\n",
       "      <td>730.000000</td>\n",
       "      <td>730.000000</td>\n",
       "      <td>730.000000</td>\n",
       "      <td>730.000000</td>\n",
       "      <td>730.000000</td>\n",
       "      <td>730.000000</td>\n",
       "      <td>730.000000</td>\n",
       "    </tr>\n",
       "    <tr>\n",
       "      <th>mean</th>\n",
       "      <td>365.500000</td>\n",
       "      <td>2.498630</td>\n",
       "      <td>0.500000</td>\n",
       "      <td>6.526027</td>\n",
       "      <td>0.028767</td>\n",
       "      <td>2.997260</td>\n",
       "      <td>0.683562</td>\n",
       "      <td>1.394521</td>\n",
       "      <td>20.319259</td>\n",
       "      <td>23.726322</td>\n",
       "      <td>62.765175</td>\n",
       "      <td>12.763620</td>\n",
       "      <td>849.249315</td>\n",
       "      <td>3658.757534</td>\n",
       "      <td>4508.006849</td>\n",
       "    </tr>\n",
       "    <tr>\n",
       "      <th>std</th>\n",
       "      <td>210.877136</td>\n",
       "      <td>1.110184</td>\n",
       "      <td>0.500343</td>\n",
       "      <td>3.450215</td>\n",
       "      <td>0.167266</td>\n",
       "      <td>2.006161</td>\n",
       "      <td>0.465405</td>\n",
       "      <td>0.544807</td>\n",
       "      <td>7.506729</td>\n",
       "      <td>8.150308</td>\n",
       "      <td>14.237589</td>\n",
       "      <td>5.195841</td>\n",
       "      <td>686.479875</td>\n",
       "      <td>1559.758728</td>\n",
       "      <td>1936.011647</td>\n",
       "    </tr>\n",
       "    <tr>\n",
       "      <th>min</th>\n",
       "      <td>1.000000</td>\n",
       "      <td>1.000000</td>\n",
       "      <td>0.000000</td>\n",
       "      <td>1.000000</td>\n",
       "      <td>0.000000</td>\n",
       "      <td>0.000000</td>\n",
       "      <td>0.000000</td>\n",
       "      <td>1.000000</td>\n",
       "      <td>2.424346</td>\n",
       "      <td>3.953480</td>\n",
       "      <td>0.000000</td>\n",
       "      <td>1.500244</td>\n",
       "      <td>2.000000</td>\n",
       "      <td>20.000000</td>\n",
       "      <td>22.000000</td>\n",
       "    </tr>\n",
       "    <tr>\n",
       "      <th>25%</th>\n",
       "      <td>183.250000</td>\n",
       "      <td>2.000000</td>\n",
       "      <td>0.000000</td>\n",
       "      <td>4.000000</td>\n",
       "      <td>0.000000</td>\n",
       "      <td>1.000000</td>\n",
       "      <td>0.000000</td>\n",
       "      <td>1.000000</td>\n",
       "      <td>13.811885</td>\n",
       "      <td>16.889713</td>\n",
       "      <td>52.000000</td>\n",
       "      <td>9.041650</td>\n",
       "      <td>316.250000</td>\n",
       "      <td>2502.250000</td>\n",
       "      <td>3169.750000</td>\n",
       "    </tr>\n",
       "    <tr>\n",
       "      <th>50%</th>\n",
       "      <td>365.500000</td>\n",
       "      <td>3.000000</td>\n",
       "      <td>0.500000</td>\n",
       "      <td>7.000000</td>\n",
       "      <td>0.000000</td>\n",
       "      <td>3.000000</td>\n",
       "      <td>1.000000</td>\n",
       "      <td>1.000000</td>\n",
       "      <td>20.465826</td>\n",
       "      <td>24.368225</td>\n",
       "      <td>62.625000</td>\n",
       "      <td>12.125325</td>\n",
       "      <td>717.000000</td>\n",
       "      <td>3664.500000</td>\n",
       "      <td>4548.500000</td>\n",
       "    </tr>\n",
       "    <tr>\n",
       "      <th>75%</th>\n",
       "      <td>547.750000</td>\n",
       "      <td>3.000000</td>\n",
       "      <td>1.000000</td>\n",
       "      <td>10.000000</td>\n",
       "      <td>0.000000</td>\n",
       "      <td>5.000000</td>\n",
       "      <td>1.000000</td>\n",
       "      <td>2.000000</td>\n",
       "      <td>26.880615</td>\n",
       "      <td>30.445775</td>\n",
       "      <td>72.989575</td>\n",
       "      <td>15.625589</td>\n",
       "      <td>1096.500000</td>\n",
       "      <td>4783.250000</td>\n",
       "      <td>5966.000000</td>\n",
       "    </tr>\n",
       "    <tr>\n",
       "      <th>max</th>\n",
       "      <td>730.000000</td>\n",
       "      <td>4.000000</td>\n",
       "      <td>1.000000</td>\n",
       "      <td>12.000000</td>\n",
       "      <td>1.000000</td>\n",
       "      <td>6.000000</td>\n",
       "      <td>1.000000</td>\n",
       "      <td>3.000000</td>\n",
       "      <td>35.328347</td>\n",
       "      <td>42.044800</td>\n",
       "      <td>97.250000</td>\n",
       "      <td>34.000021</td>\n",
       "      <td>3410.000000</td>\n",
       "      <td>6946.000000</td>\n",
       "      <td>8714.000000</td>\n",
       "    </tr>\n",
       "  </tbody>\n",
       "</table>\n",
       "</div>"
      ],
      "text/plain": [
       "          instant      season          yr        mnth     holiday     weekday  \\\n",
       "count  730.000000  730.000000  730.000000  730.000000  730.000000  730.000000   \n",
       "mean   365.500000    2.498630    0.500000    6.526027    0.028767    2.997260   \n",
       "std    210.877136    1.110184    0.500343    3.450215    0.167266    2.006161   \n",
       "min      1.000000    1.000000    0.000000    1.000000    0.000000    0.000000   \n",
       "25%    183.250000    2.000000    0.000000    4.000000    0.000000    1.000000   \n",
       "50%    365.500000    3.000000    0.500000    7.000000    0.000000    3.000000   \n",
       "75%    547.750000    3.000000    1.000000   10.000000    0.000000    5.000000   \n",
       "max    730.000000    4.000000    1.000000   12.000000    1.000000    6.000000   \n",
       "\n",
       "       workingday  weathersit        temp       atemp         hum   windspeed  \\\n",
       "count  730.000000  730.000000  730.000000  730.000000  730.000000  730.000000   \n",
       "mean     0.683562    1.394521   20.319259   23.726322   62.765175   12.763620   \n",
       "std      0.465405    0.544807    7.506729    8.150308   14.237589    5.195841   \n",
       "min      0.000000    1.000000    2.424346    3.953480    0.000000    1.500244   \n",
       "25%      0.000000    1.000000   13.811885   16.889713   52.000000    9.041650   \n",
       "50%      1.000000    1.000000   20.465826   24.368225   62.625000   12.125325   \n",
       "75%      1.000000    2.000000   26.880615   30.445775   72.989575   15.625589   \n",
       "max      1.000000    3.000000   35.328347   42.044800   97.250000   34.000021   \n",
       "\n",
       "            casual   registered          cnt  \n",
       "count   730.000000   730.000000   730.000000  \n",
       "mean    849.249315  3658.757534  4508.006849  \n",
       "std     686.479875  1559.758728  1936.011647  \n",
       "min       2.000000    20.000000    22.000000  \n",
       "25%     316.250000  2502.250000  3169.750000  \n",
       "50%     717.000000  3664.500000  4548.500000  \n",
       "75%    1096.500000  4783.250000  5966.000000  \n",
       "max    3410.000000  6946.000000  8714.000000  "
      ]
     },
     "execution_count": 8,
     "metadata": {},
     "output_type": "execute_result"
    }
   ],
   "source": [
    "df.describe()"
   ]
  },
  {
   "cell_type": "markdown",
   "id": "4d6287a7-5638-4445-aa85-6409ece4c06c",
   "metadata": {},
   "source": [
    "From the above we see that there are no outliers (min/max values seem fine).. mean & median are approximately same"
   ]
  },
  {
   "cell_type": "markdown",
   "id": "1bb86583-cd60-4e57-9fe7-b675e5f62efe",
   "metadata": {},
   "source": [
    "## Data Preparation"
   ]
  },
  {
   "cell_type": "markdown",
   "id": "086e0950-9af4-4244-9604-6f9e9f467f74",
   "metadata": {},
   "source": [
    "##### copying the given dataset characteristics for easy reference"
   ]
  },
  {
   "cell_type": "markdown",
   "id": "22ed145e-8e7b-46f4-b3ef-d7f0e14c975b",
   "metadata": {},
   "source": [
    "*\n",
    "Dataset characteristic : \t\r\n",
    "day.csv have the following fiels:\r\n",
    "\t\r\n",
    "\t- instant: record index\r\n",
    "\t- dteday : date\r\n",
    "\t- season : season (1:spring, 2:summer, 3:fall, 4:winter)\r\n",
    "\t- yr : year (0: 2018, 1:2019)\r\n",
    "\t- mnth : month ( 1 to 12)\r\n",
    "\t- holiday : weather day is a holiday or not (extracted from http://dchr.dc.gov/page/holiday-schedule)\r\n",
    "\t- weekday : day of the week\r\n",
    "\t- workingday : if day is neither weekend nor holiday is 1, otherwise is 0.\r\n",
    "\t+ weathersit : \r\n",
    "\t\t- 1: Clear, Few clouds, Partly cloudy, Partly cloudy\r\n",
    "\t\t- 2: Mist + Cloudy, Mist + Broken clouds, Mist + Few clouds, Mist\r\n",
    "\t\t- 3: Light Snow, Light Rain + Thunderstorm + Scattered clouds, Light Rain + Scattered clouds\r\n",
    "\t\t- 4: Heavy Rain + Ice Pallets + Thunderstorm + Mist, Snow + Fog\r\n",
    "\t- temp : temperature in Celsius\r\n",
    "\t- atemp: feeling temperature in Celsius\r\n",
    "\t- hum: humidity\r\n",
    "\t- windspeed: wind speed\r\n",
    "\t- casual: count of casual users\r\n",
    "\t- registered: count of registered users\r\n",
    "\t- cnt: count of total rental bikes including both casual and registered"
   ]
  },
  {
   "cell_type": "markdown",
   "id": "0d5e39d8-2ee9-41ee-9b75-0238c6e7eba6",
   "metadata": {},
   "source": [
    "#### Deleting the columns not useful for analysis"
   ]
  },
  {
   "cell_type": "markdown",
   "id": "485a2c94-1562-4698-85cf-9aabbe45d896",
   "metadata": {},
   "source": [
    " - As we have to analyze the total users (indicated by the 'cnt' col), rather than analyzing the 'casual' & 'registered' users separately, we can drop these columns.\n",
    " - dteday : date (has the dates for all the days starting from 1st jan,2018 till 31st dec, 2019 i.e. 2 * 365 = 730 dates). All the info required from dteday has been captured in other columns like 'yr', 'mnth', 'weekday' etc.\n",
    " - Also from the description, instant is just the record index and doesn't contribute to our analysis. Lets drop this column too."
   ]
  },
  {
   "cell_type": "code",
   "execution_count": 9,
   "id": "24e818b7-2a73-4f4e-bae7-015f3d134e9c",
   "metadata": {},
   "outputs": [],
   "source": [
    "cols2_drop = ['casual', 'registered', 'dteday', 'instant']\n",
    "df.drop(columns = cols2_drop, inplace = True)"
   ]
  },
  {
   "cell_type": "code",
   "execution_count": 10,
   "id": "d8dfca0f-198f-47b1-9e21-01727acd88da",
   "metadata": {},
   "outputs": [
    {
     "data": {
      "text/plain": [
       "0.991696178690565"
      ]
     },
     "execution_count": 10,
     "metadata": {},
     "output_type": "execute_result"
    }
   ],
   "source": [
    "# From the description of the columns, it seems 'temp' & 'atemp' may be higly correlated as both signify temperature conditions. Let's check that :\n",
    "df['temp'].corr(df['atemp'])"
   ]
  },
  {
   "cell_type": "code",
   "execution_count": 11,
   "id": "a3d2bba5-136b-472c-9813-a22b40d49160",
   "metadata": {},
   "outputs": [],
   "source": [
    "# As temp & atemp are highly correlated, lets drop one of them (atemp).\n",
    "cols2_drop = ['atemp']\n",
    "df.drop(columns = cols2_drop, inplace = True)"
   ]
  },
  {
   "cell_type": "code",
   "execution_count": 12,
   "id": "ecef2fb8-4c01-4b83-97ef-a945f1e677b1",
   "metadata": {},
   "outputs": [
    {
     "data": {
      "text/html": [
       "<div>\n",
       "<style scoped>\n",
       "    .dataframe tbody tr th:only-of-type {\n",
       "        vertical-align: middle;\n",
       "    }\n",
       "\n",
       "    .dataframe tbody tr th {\n",
       "        vertical-align: top;\n",
       "    }\n",
       "\n",
       "    .dataframe thead th {\n",
       "        text-align: right;\n",
       "    }\n",
       "</style>\n",
       "<table border=\"1\" class=\"dataframe\">\n",
       "  <thead>\n",
       "    <tr style=\"text-align: right;\">\n",
       "      <th></th>\n",
       "      <th>season</th>\n",
       "      <th>yr</th>\n",
       "      <th>mnth</th>\n",
       "      <th>holiday</th>\n",
       "      <th>weekday</th>\n",
       "      <th>workingday</th>\n",
       "      <th>weathersit</th>\n",
       "      <th>temp</th>\n",
       "      <th>hum</th>\n",
       "      <th>windspeed</th>\n",
       "      <th>cnt</th>\n",
       "    </tr>\n",
       "  </thead>\n",
       "  <tbody>\n",
       "    <tr>\n",
       "      <th>684</th>\n",
       "      <td>4</td>\n",
       "      <td>1</td>\n",
       "      <td>11</td>\n",
       "      <td>0</td>\n",
       "      <td>5</td>\n",
       "      <td>1</td>\n",
       "      <td>1</td>\n",
       "      <td>14.145</td>\n",
       "      <td>52.4583</td>\n",
       "      <td>11.458675</td>\n",
       "      <td>5698</td>\n",
       "    </tr>\n",
       "    <tr>\n",
       "      <th>459</th>\n",
       "      <td>2</td>\n",
       "      <td>1</td>\n",
       "      <td>4</td>\n",
       "      <td>0</td>\n",
       "      <td>4</td>\n",
       "      <td>1</td>\n",
       "      <td>1</td>\n",
       "      <td>17.835</td>\n",
       "      <td>37.4167</td>\n",
       "      <td>14.708443</td>\n",
       "      <td>6457</td>\n",
       "    </tr>\n",
       "    <tr>\n",
       "      <th>545</th>\n",
       "      <td>3</td>\n",
       "      <td>1</td>\n",
       "      <td>6</td>\n",
       "      <td>0</td>\n",
       "      <td>6</td>\n",
       "      <td>0</td>\n",
       "      <td>1</td>\n",
       "      <td>31.365</td>\n",
       "      <td>60.1250</td>\n",
       "      <td>10.791757</td>\n",
       "      <td>5687</td>\n",
       "    </tr>\n",
       "  </tbody>\n",
       "</table>\n",
       "</div>"
      ],
      "text/plain": [
       "     season  yr  mnth  holiday  weekday  workingday  weathersit    temp  \\\n",
       "684       4   1    11        0        5           1           1  14.145   \n",
       "459       2   1     4        0        4           1           1  17.835   \n",
       "545       3   1     6        0        6           0           1  31.365   \n",
       "\n",
       "         hum  windspeed   cnt  \n",
       "684  52.4583  11.458675  5698  \n",
       "459  37.4167  14.708443  6457  \n",
       "545  60.1250  10.791757  5687  "
      ]
     },
     "execution_count": 12,
     "metadata": {},
     "output_type": "execute_result"
    }
   ],
   "source": [
    "df.sample(3)"
   ]
  },
  {
   "cell_type": "markdown",
   "id": "50dee241-fe94-4b96-adfc-1355a71b44cd",
   "metadata": {},
   "source": [
    "#### Check the unique values of the categorical columns"
   ]
  },
  {
   "cell_type": "code",
   "execution_count": 13,
   "id": "c8d20870-0f46-408c-bfff-964a3419ed9e",
   "metadata": {},
   "outputs": [
    {
     "name": "stdout",
     "output_type": "stream",
     "text": [
      "season : [1 2 3 4]\n",
      "yr : [0 1]\n",
      "mnth : [ 1  2  3  4  5  6  7  8  9 10 11 12]\n",
      "holiday : [0 1]\n",
      "weekday : [6 0 1 2 3 4 5]\n",
      "workingday : [0 1]\n",
      "weathersit : [2 1 3]\n"
     ]
    }
   ],
   "source": [
    "# As the data-set is not big, we can look at the unique values of different columns to understand the data better\n",
    "cat_cols = ['season', 'yr', 'mnth', 'holiday', 'weekday', 'workingday', 'weathersit']\n",
    "for i in cat_cols:\n",
    "    print(i, \":\", df[i].unique())"
   ]
  },
  {
   "cell_type": "markdown",
   "id": "fa6fb96e-176c-48a9-99e5-90f586de9f28",
   "metadata": {},
   "source": [
    "#### Analyzing columns with categorical variables"
   ]
  },
  {
   "cell_type": "code",
   "execution_count": 14,
   "id": "6b6ea95c-2585-4b85-8c80-7886c518e758",
   "metadata": {},
   "outputs": [
    {
     "data": {
      "image/png": "[encoded data removed]",
      "text/plain": [
       "<Figure size 800x600 with 2 Axes>"
      ]
     },
     "metadata": {},
     "output_type": "display_data"
    }
   ],
   "source": [
    "cols = cat_cols + ['cnt']\n",
    "plt.figure(figsize=(8,6))\n",
    "sns.heatmap(df[cols].corr(), cmap='Greens', annot=True)\n",
    "plt.show()"
   ]
  },
  {
   "cell_type": "markdown",
   "id": "b8f8118e-72b3-4c65-855a-e18fd7958f74",
   "metadata": {},
   "source": [
    "__Observation : The season, year, month & weathersit have the most impact on the target variable. This can be observed from  their correlation values with the ‘cnt’.__"
   ]
  },
  {
   "cell_type": "markdown",
   "id": "0bda796b-7d3a-4423-aa0e-5010d15c5488",
   "metadata": {},
   "source": [
    "#### Converting to categorical string values"
   ]
  },
  {
   "cell_type": "code",
   "execution_count": 15,
   "id": "7ecc7e55-218a-47ce-ab89-855597d936b0",
   "metadata": {},
   "outputs": [
    {
     "name": "stdout",
     "output_type": "stream",
     "text": [
      "Monday\n"
     ]
    }
   ],
   "source": [
    "# check the day on the first day i.e. '01 01 2018'\n",
    "import datetime \n",
    "import calendar \n",
    "\n",
    "def findDay(date): \n",
    "    born = datetime.datetime.strptime(date, '%d %m %Y').weekday() \n",
    "    return (calendar.day_name[born]) \n",
    "  \n",
    "# Driver program \n",
    "date = '01 01 2018'\n",
    "print(findDay(date)) "
   ]
  },
  {
   "cell_type": "code",
   "execution_count": 16,
   "id": "54e60afb-ea42-4de5-9520-2cf2fbd7bd16",
   "metadata": {},
   "outputs": [],
   "source": [
    "# from the unique value count, the categorical variables 'season', 'mnth', 'weekday', 'weathersit' have more than two values. \n",
    "# And as they don't have any order to them, lets convert them to string values first.\n",
    "\n",
    "season = {1:'spring', 2:'summer', 3:'fall', 4:'winter'}\n",
    "mnth   = {1:'Jan', 2:'Feb', 3:'Mar', 4:'Apr', 5:'May', 6:'Jun', 7:'Jul', 8:'Aug', 9:'Sep', 10:'Oct', 11:'Nov', 12:'Dec'}\n",
    "weekday= {0: 'Tues', 1: 'Wed', 2: 'Thurs', 3: 'Fri', 4: 'Sat', 5: 'Sun', 6: 'Mon'}\n",
    "weathersit = {1:'clear', 2:'cloudy', 3:'light-rain'}\n",
    "\n",
    "df['season'] = df['season'].replace(season)\n",
    "df['mnth'] = df['mnth'].replace(mnth)\n",
    "df['weekday'] = df['weekday'].replace(weekday)\n",
    "df['weathersit'] = df['weathersit'].replace(weathersit)"
   ]
  },
  {
   "cell_type": "code",
   "execution_count": 17,
   "id": "5e9450e1-db74-4b79-9ed4-e8331ecd2468",
   "metadata": {},
   "outputs": [
    {
     "data": {
      "text/html": [
       "<div>\n",
       "<style scoped>\n",
       "    .dataframe tbody tr th:only-of-type {\n",
       "        vertical-align: middle;\n",
       "    }\n",
       "\n",
       "    .dataframe tbody tr th {\n",
       "        vertical-align: top;\n",
       "    }\n",
       "\n",
       "    .dataframe thead th {\n",
       "        text-align: right;\n",
       "    }\n",
       "</style>\n",
       "<table border=\"1\" class=\"dataframe\">\n",
       "  <thead>\n",
       "    <tr style=\"text-align: right;\">\n",
       "      <th></th>\n",
       "      <th>season</th>\n",
       "      <th>yr</th>\n",
       "      <th>mnth</th>\n",
       "      <th>holiday</th>\n",
       "      <th>weekday</th>\n",
       "      <th>workingday</th>\n",
       "      <th>weathersit</th>\n",
       "      <th>temp</th>\n",
       "      <th>hum</th>\n",
       "      <th>windspeed</th>\n",
       "      <th>cnt</th>\n",
       "    </tr>\n",
       "  </thead>\n",
       "  <tbody>\n",
       "    <tr>\n",
       "      <th>199</th>\n",
       "      <td>fall</td>\n",
       "      <td>0</td>\n",
       "      <td>Jul</td>\n",
       "      <td>0</td>\n",
       "      <td>Thurs</td>\n",
       "      <td>1</td>\n",
       "      <td>clear</td>\n",
       "      <td>31.843347</td>\n",
       "      <td>65.0417</td>\n",
       "      <td>8.750200</td>\n",
       "      <td>4541</td>\n",
       "    </tr>\n",
       "    <tr>\n",
       "      <th>332</th>\n",
       "      <td>winter</td>\n",
       "      <td>0</td>\n",
       "      <td>Nov</td>\n",
       "      <td>0</td>\n",
       "      <td>Thurs</td>\n",
       "      <td>1</td>\n",
       "      <td>cloudy</td>\n",
       "      <td>18.791653</td>\n",
       "      <td>83.0833</td>\n",
       "      <td>17.292164</td>\n",
       "      <td>2914</td>\n",
       "    </tr>\n",
       "    <tr>\n",
       "      <th>516</th>\n",
       "      <td>summer</td>\n",
       "      <td>1</td>\n",
       "      <td>Jun</td>\n",
       "      <td>0</td>\n",
       "      <td>Sun</td>\n",
       "      <td>1</td>\n",
       "      <td>cloudy</td>\n",
       "      <td>26.820847</td>\n",
       "      <td>75.5417</td>\n",
       "      <td>15.916721</td>\n",
       "      <td>4127</td>\n",
       "    </tr>\n",
       "  </tbody>\n",
       "</table>\n",
       "</div>"
      ],
      "text/plain": [
       "     season  yr mnth  holiday weekday  workingday weathersit       temp  \\\n",
       "199    fall   0  Jul        0   Thurs           1      clear  31.843347   \n",
       "332  winter   0  Nov        0   Thurs           1     cloudy  18.791653   \n",
       "516  summer   1  Jun        0     Sun           1     cloudy  26.820847   \n",
       "\n",
       "         hum  windspeed   cnt  \n",
       "199  65.0417   8.750200  4541  \n",
       "332  83.0833  17.292164  2914  \n",
       "516  75.5417  15.916721  4127  "
      ]
     },
     "execution_count": 17,
     "metadata": {},
     "output_type": "execute_result"
    }
   ],
   "source": [
    "df.sample(3)"
   ]
  },
  {
   "cell_type": "markdown",
   "id": "19625114-3831-4153-8b0d-4f4c14003ffc",
   "metadata": {},
   "source": [
    "#### Data Visualisation"
   ]
  },
  {
   "cell_type": "markdown",
   "id": "21a2ad82-83d8-4230-b0d8-2da4c2825b65",
   "metadata": {},
   "source": [
    "##### Lets first analyze the impact of categorical variables on the target variable using barplots & boxplots"
   ]
  },
  {
   "cell_type": "code",
   "execution_count": 18,
   "id": "ece21b66-b93e-46ac-ae90-3e231d7111e9",
   "metadata": {},
   "outputs": [
    {
     "data": {
      "image/png": "[encoded data removed]",
      "text/plain": [
       "<Figure size 1500x1000 with 7 Axes>"
      ]
     },
     "metadata": {},
     "output_type": "display_data"
    }
   ],
   "source": [
    "plt.figure(figsize=(15,10))\n",
    "for i in range(len(cat_cols)):\n",
    "    plt.subplot(3,3,i+1)\n",
    "    sns.barplot(data=df, x=cat_cols[i], y='cnt', estimator=np.mean, palette='deep')"
   ]
  },
  {
   "cell_type": "code",
   "execution_count": 19,
   "id": "21810268-3137-4f0d-b880-534593ad593b",
   "metadata": {},
   "outputs": [
    {
     "data": {
      "image/png": "[encoded data removed]",
      "text/plain": [
       "<Figure size 1500x1000 with 7 Axes>"
      ]
     },
     "metadata": {},
     "output_type": "display_data"
    }
   ],
   "source": [
    "plt.figure(figsize=(15,10))\n",
    "for i in range(len(cat_cols)):\n",
    "    plt.subplot(3,3,i+1)\n",
    "    sns.boxplot(data=df, x=cat_cols[i], y='cnt', palette='deep')"
   ]
  },
  {
   "cell_type": "markdown",
   "id": "2bdc3999-791f-41e9-9699-89630a45db7d",
   "metadata": {},
   "source": [
    "__Observation : The season, year, month & weathersit have the most impact on the target variable. This can be observed from  their barplots as well as boxplots with the ‘cnt’.__"
   ]
  },
  {
   "cell_type": "markdown",
   "id": "95d13630-f1ca-4761-8d82-714b1b4e293c",
   "metadata": {},
   "source": [
    "##### Lets next analyze the impact of numeric variables on the target variable using scatterplots"
   ]
  },
  {
   "cell_type": "code",
   "execution_count": 20,
   "id": "d4edd990-4e92-40e7-aeb1-cf13759cb4f4",
   "metadata": {},
   "outputs": [
    {
     "data": {
      "image/png": "[encoded data removed]",
      "text/plain": [
       "<Figure size 750x250 with 3 Axes>"
      ]
     },
     "metadata": {},
     "output_type": "display_data"
    }
   ],
   "source": [
    "num_cols = ['temp', 'hum', 'windspeed']\n",
    "sns.pairplot(data=df, x_vars=num_cols, y_vars='cnt', palette='deep')\n",
    "plt.show()"
   ]
  },
  {
   "cell_type": "code",
   "execution_count": 21,
   "id": "efe87792-7579-4e2f-b64c-9f19b5036c70",
   "metadata": {},
   "outputs": [
    {
     "data": {
      "image/png": "[encoded data removed]",
      "text/plain": [
       "<Figure size 500x300 with 2 Axes>"
      ]
     },
     "metadata": {},
     "output_type": "display_data"
    }
   ],
   "source": [
    "cols = num_cols + ['cnt']\n",
    "plt.figure(figsize=(5,3))\n",
    "sns.heatmap(df[cols].corr(), cmap='Greens', annot=True)\n",
    "plt.show()"
   ]
  },
  {
   "cell_type": "markdown",
   "id": "272fa92f-fa74-4c1e-8d99-3e00049dcb4d",
   "metadata": {},
   "source": [
    "__Observation : Among the numeric columns, temp & windspeed have the most impact on the target variable.__"
   ]
  },
  {
   "cell_type": "markdown",
   "id": "0ee04d65-9ab6-48f6-a177-6d76b6ca42ae",
   "metadata": {},
   "source": [
    "#### Creating dummy variables"
   ]
  },
  {
   "cell_type": "code",
   "execution_count": 22,
   "id": "aa6da6f6-f7d9-44a9-9fad-f94c97bcd373",
   "metadata": {},
   "outputs": [
    {
     "data": {
      "text/plain": [
       "(730, 11)"
      ]
     },
     "execution_count": 22,
     "metadata": {},
     "output_type": "execute_result"
    }
   ],
   "source": [
    "df.shape"
   ]
  },
  {
   "cell_type": "code",
   "execution_count": 23,
   "id": "07d45814-a472-47ec-831d-9b286cf577e7",
   "metadata": {},
   "outputs": [],
   "source": [
    "dummy_cols = ['season', 'mnth', 'weekday', 'weathersit']\n",
    "df1 = pd.get_dummies(df, columns=dummy_cols, drop_first=True, dtype='u1')"
   ]
  },
  {
   "cell_type": "code",
   "execution_count": 24,
   "id": "0e44c229-62ef-4918-9205-1adc022fac75",
   "metadata": {},
   "outputs": [
    {
     "data": {
      "text/plain": [
       "(730, 29)"
      ]
     },
     "execution_count": 24,
     "metadata": {},
     "output_type": "execute_result"
    }
   ],
   "source": [
    "df1.shape"
   ]
  },
  {
   "cell_type": "code",
   "execution_count": 25,
   "id": "5d95ede2-d4a7-4423-a158-a927c968aada",
   "metadata": {},
   "outputs": [
    {
     "data": {
      "text/html": [
       "<div>\n",
       "<style scoped>\n",
       "    .dataframe tbody tr th:only-of-type {\n",
       "        vertical-align: middle;\n",
       "    }\n",
       "\n",
       "    .dataframe tbody tr th {\n",
       "        vertical-align: top;\n",
       "    }\n",
       "\n",
       "    .dataframe thead th {\n",
       "        text-align: right;\n",
       "    }\n",
       "</style>\n",
       "<table border=\"1\" class=\"dataframe\">\n",
       "  <thead>\n",
       "    <tr style=\"text-align: right;\">\n",
       "      <th></th>\n",
       "      <th>yr</th>\n",
       "      <th>holiday</th>\n",
       "      <th>workingday</th>\n",
       "      <th>temp</th>\n",
       "      <th>hum</th>\n",
       "      <th>windspeed</th>\n",
       "      <th>cnt</th>\n",
       "      <th>season_spring</th>\n",
       "      <th>season_summer</th>\n",
       "      <th>season_winter</th>\n",
       "      <th>mnth_Aug</th>\n",
       "      <th>mnth_Dec</th>\n",
       "      <th>mnth_Feb</th>\n",
       "      <th>mnth_Jan</th>\n",
       "      <th>mnth_Jul</th>\n",
       "      <th>mnth_Jun</th>\n",
       "      <th>mnth_Mar</th>\n",
       "      <th>mnth_May</th>\n",
       "      <th>mnth_Nov</th>\n",
       "      <th>mnth_Oct</th>\n",
       "      <th>mnth_Sep</th>\n",
       "      <th>weekday_Mon</th>\n",
       "      <th>weekday_Sat</th>\n",
       "      <th>weekday_Sun</th>\n",
       "      <th>weekday_Thurs</th>\n",
       "      <th>weekday_Tues</th>\n",
       "      <th>weekday_Wed</th>\n",
       "      <th>weathersit_cloudy</th>\n",
       "      <th>weathersit_light-rain</th>\n",
       "    </tr>\n",
       "  </thead>\n",
       "  <tbody>\n",
       "    <tr>\n",
       "      <th>433</th>\n",
       "      <td>1</td>\n",
       "      <td>0</td>\n",
       "      <td>0</td>\n",
       "      <td>11.787500</td>\n",
       "      <td>35.0417</td>\n",
       "      <td>15.125250</td>\n",
       "      <td>4118</td>\n",
       "      <td>1</td>\n",
       "      <td>0</td>\n",
       "      <td>0</td>\n",
       "      <td>0</td>\n",
       "      <td>0</td>\n",
       "      <td>0</td>\n",
       "      <td>0</td>\n",
       "      <td>0</td>\n",
       "      <td>0</td>\n",
       "      <td>1</td>\n",
       "      <td>0</td>\n",
       "      <td>0</td>\n",
       "      <td>0</td>\n",
       "      <td>0</td>\n",
       "      <td>1</td>\n",
       "      <td>0</td>\n",
       "      <td>0</td>\n",
       "      <td>0</td>\n",
       "      <td>0</td>\n",
       "      <td>0</td>\n",
       "      <td>0</td>\n",
       "      <td>0</td>\n",
       "    </tr>\n",
       "    <tr>\n",
       "      <th>403</th>\n",
       "      <td>1</td>\n",
       "      <td>0</td>\n",
       "      <td>1</td>\n",
       "      <td>10.523347</td>\n",
       "      <td>72.2917</td>\n",
       "      <td>8.959307</td>\n",
       "      <td>2802</td>\n",
       "      <td>1</td>\n",
       "      <td>0</td>\n",
       "      <td>0</td>\n",
       "      <td>0</td>\n",
       "      <td>0</td>\n",
       "      <td>1</td>\n",
       "      <td>0</td>\n",
       "      <td>0</td>\n",
       "      <td>0</td>\n",
       "      <td>0</td>\n",
       "      <td>0</td>\n",
       "      <td>0</td>\n",
       "      <td>0</td>\n",
       "      <td>0</td>\n",
       "      <td>0</td>\n",
       "      <td>0</td>\n",
       "      <td>0</td>\n",
       "      <td>0</td>\n",
       "      <td>0</td>\n",
       "      <td>0</td>\n",
       "      <td>1</td>\n",
       "      <td>0</td>\n",
       "    </tr>\n",
       "    <tr>\n",
       "      <th>177</th>\n",
       "      <td>0</td>\n",
       "      <td>0</td>\n",
       "      <td>1</td>\n",
       "      <td>27.982500</td>\n",
       "      <td>65.8333</td>\n",
       "      <td>7.208396</td>\n",
       "      <td>4708</td>\n",
       "      <td>0</td>\n",
       "      <td>0</td>\n",
       "      <td>0</td>\n",
       "      <td>0</td>\n",
       "      <td>0</td>\n",
       "      <td>0</td>\n",
       "      <td>0</td>\n",
       "      <td>0</td>\n",
       "      <td>1</td>\n",
       "      <td>0</td>\n",
       "      <td>0</td>\n",
       "      <td>0</td>\n",
       "      <td>0</td>\n",
       "      <td>0</td>\n",
       "      <td>0</td>\n",
       "      <td>0</td>\n",
       "      <td>0</td>\n",
       "      <td>0</td>\n",
       "      <td>0</td>\n",
       "      <td>1</td>\n",
       "      <td>1</td>\n",
       "      <td>0</td>\n",
       "    </tr>\n",
       "  </tbody>\n",
       "</table>\n",
       "</div>"
      ],
      "text/plain": [
       "     yr  holiday  workingday       temp      hum  windspeed   cnt  \\\n",
       "433   1        0           0  11.787500  35.0417  15.125250  4118   \n",
       "403   1        0           1  10.523347  72.2917   8.959307  2802   \n",
       "177   0        0           1  27.982500  65.8333   7.208396  4708   \n",
       "\n",
       "     season_spring  season_summer  season_winter  mnth_Aug  mnth_Dec  \\\n",
       "433              1              0              0         0         0   \n",
       "403              1              0              0         0         0   \n",
       "177              0              0              0         0         0   \n",
       "\n",
       "     mnth_Feb  mnth_Jan  mnth_Jul  mnth_Jun  mnth_Mar  mnth_May  mnth_Nov  \\\n",
       "433         0         0         0         0         1         0         0   \n",
       "403         1         0         0         0         0         0         0   \n",
       "177         0         0         0         1         0         0         0   \n",
       "\n",
       "     mnth_Oct  mnth_Sep  weekday_Mon  weekday_Sat  weekday_Sun  weekday_Thurs  \\\n",
       "433         0         0            1            0            0              0   \n",
       "403         0         0            0            0            0              0   \n",
       "177         0         0            0            0            0              0   \n",
       "\n",
       "     weekday_Tues  weekday_Wed  weathersit_cloudy  weathersit_light-rain  \n",
       "433             0            0                  0                      0  \n",
       "403             0            0                  1                      0  \n",
       "177             0            1                  1                      0  "
      ]
     },
     "execution_count": 25,
     "metadata": {},
     "output_type": "execute_result"
    }
   ],
   "source": [
    "df1.sample(3)"
   ]
  },
  {
   "cell_type": "markdown",
   "id": "ef6c35a6-f74e-4816-bf14-942329f7a356",
   "metadata": {},
   "source": [
    "## Building a Linear Regression Model"
   ]
  },
  {
   "cell_type": "markdown",
   "id": "94587989-c3d5-42b1-95cc-38a39fd2bebc",
   "metadata": {},
   "source": [
    "#### Divide the data to train & test"
   ]
  },
  {
   "cell_type": "code",
   "execution_count": 26,
   "id": "a67bf443-b457-49bb-b091-49dd2535ff98",
   "metadata": {},
   "outputs": [],
   "source": [
    "from sklearn.model_selection import train_test_split\n",
    "df_train, df_test = train_test_split(df1, train_size = 0.7, random_state = 100)"
   ]
  },
  {
   "cell_type": "code",
   "execution_count": 27,
   "id": "ad979dd5-bde2-4cf1-bc68-3617b83e0494",
   "metadata": {},
   "outputs": [
    {
     "name": "stdout",
     "output_type": "stream",
     "text": [
      "(510, 29) (220, 29)\n"
     ]
    }
   ],
   "source": [
    "print(df_train.shape, df_test.shape)"
   ]
  },
  {
   "cell_type": "markdown",
   "id": "8b697853-57d9-4872-9eb8-50ac966698db",
   "metadata": {},
   "source": [
    "#### Scaling the data "
   ]
  },
  {
   "cell_type": "code",
   "execution_count": 28,
   "id": "61a8caeb-a445-4cd0-82b9-98a4577bef30",
   "metadata": {},
   "outputs": [],
   "source": [
    "from sklearn.preprocessing import MinMaxScaler\n",
    "sc = MinMaxScaler()\n",
    "\n",
    "# Apply scaler() to all the columns except the ones having binary values\n",
    "num_vars = ['temp', 'hum', 'windspeed', 'cnt']\n",
    "sc.fit(df_train[num_vars])\n",
    "df_train[num_vars] = sc.transform(df_train[num_vars])\n",
    "\n",
    "# let us also scale the test data which will be requied later for model evaluation\n",
    "df_test[num_vars] = sc.transform(df_test[num_vars])"
   ]
  },
  {
   "cell_type": "code",
   "execution_count": 29,
   "id": "b5cf60c6-f677-4507-9330-cf192da4628d",
   "metadata": {},
   "outputs": [
    {
     "data": {
      "text/html": [
       "<div>\n",
       "<style scoped>\n",
       "    .dataframe tbody tr th:only-of-type {\n",
       "        vertical-align: middle;\n",
       "    }\n",
       "\n",
       "    .dataframe tbody tr th {\n",
       "        vertical-align: top;\n",
       "    }\n",
       "\n",
       "    .dataframe thead th {\n",
       "        text-align: right;\n",
       "    }\n",
       "</style>\n",
       "<table border=\"1\" class=\"dataframe\">\n",
       "  <thead>\n",
       "    <tr style=\"text-align: right;\">\n",
       "      <th></th>\n",
       "      <th>temp</th>\n",
       "      <th>hum</th>\n",
       "      <th>windspeed</th>\n",
       "      <th>cnt</th>\n",
       "    </tr>\n",
       "  </thead>\n",
       "  <tbody>\n",
       "    <tr>\n",
       "      <th>576</th>\n",
       "      <td>0.815169</td>\n",
       "      <td>0.725633</td>\n",
       "      <td>0.264686</td>\n",
       "      <td>0.827658</td>\n",
       "    </tr>\n",
       "    <tr>\n",
       "      <th>426</th>\n",
       "      <td>0.442393</td>\n",
       "      <td>0.640189</td>\n",
       "      <td>0.255342</td>\n",
       "      <td>0.465255</td>\n",
       "    </tr>\n",
       "    <tr>\n",
       "      <th>728</th>\n",
       "      <td>0.245101</td>\n",
       "      <td>0.498067</td>\n",
       "      <td>0.663106</td>\n",
       "      <td>0.204096</td>\n",
       "    </tr>\n",
       "  </tbody>\n",
       "</table>\n",
       "</div>"
      ],
      "text/plain": [
       "         temp       hum  windspeed       cnt\n",
       "576  0.815169  0.725633   0.264686  0.827658\n",
       "426  0.442393  0.640189   0.255342  0.465255\n",
       "728  0.245101  0.498067   0.663106  0.204096"
      ]
     },
     "execution_count": 29,
     "metadata": {},
     "output_type": "execute_result"
    }
   ],
   "source": [
    "df_train[num_vars].head(3)"
   ]
  },
  {
   "cell_type": "code",
   "execution_count": 30,
   "id": "dc5811ca-7cb5-463b-b465-6b9c679252ee",
   "metadata": {},
   "outputs": [
    {
     "data": {
      "text/html": [
       "<div>\n",
       "<style scoped>\n",
       "    .dataframe tbody tr th:only-of-type {\n",
       "        vertical-align: middle;\n",
       "    }\n",
       "\n",
       "    .dataframe tbody tr th {\n",
       "        vertical-align: top;\n",
       "    }\n",
       "\n",
       "    .dataframe thead th {\n",
       "        text-align: right;\n",
       "    }\n",
       "</style>\n",
       "<table border=\"1\" class=\"dataframe\">\n",
       "  <thead>\n",
       "    <tr style=\"text-align: right;\">\n",
       "      <th></th>\n",
       "      <th>temp</th>\n",
       "      <th>hum</th>\n",
       "      <th>windspeed</th>\n",
       "      <th>cnt</th>\n",
       "    </tr>\n",
       "  </thead>\n",
       "  <tbody>\n",
       "    <tr>\n",
       "      <th>184</th>\n",
       "      <td>0.831783</td>\n",
       "      <td>0.657364</td>\n",
       "      <td>0.084219</td>\n",
       "      <td>0.692706</td>\n",
       "    </tr>\n",
       "    <tr>\n",
       "      <th>535</th>\n",
       "      <td>0.901354</td>\n",
       "      <td>0.610133</td>\n",
       "      <td>0.153728</td>\n",
       "      <td>0.712034</td>\n",
       "    </tr>\n",
       "    <tr>\n",
       "      <th>299</th>\n",
       "      <td>0.511964</td>\n",
       "      <td>0.837699</td>\n",
       "      <td>0.334206</td>\n",
       "      <td>0.303382</td>\n",
       "    </tr>\n",
       "  </tbody>\n",
       "</table>\n",
       "</div>"
      ],
      "text/plain": [
       "         temp       hum  windspeed       cnt\n",
       "184  0.831783  0.657364   0.084219  0.692706\n",
       "535  0.901354  0.610133   0.153728  0.712034\n",
       "299  0.511964  0.837699   0.334206  0.303382"
      ]
     },
     "execution_count": 30,
     "metadata": {},
     "output_type": "execute_result"
    }
   ],
   "source": [
    "df_test[num_vars].head(3)"
   ]
  },
  {
   "cell_type": "markdown",
   "id": "4805422a-e7b8-442e-a00e-5ec199d60c1a",
   "metadata": {},
   "source": [
    "#### Dividing the data into X and y"
   ]
  },
  {
   "cell_type": "code",
   "execution_count": 31,
   "id": "8bbe14db-321a-4895-9f27-b4922feceba7",
   "metadata": {},
   "outputs": [],
   "source": [
    "x_train = df_train.drop(columns=['cnt'])\n",
    "y_train = df_train['cnt']"
   ]
  },
  {
   "cell_type": "code",
   "execution_count": 32,
   "id": "4a60b24d-ff01-40e8-8974-f58463512e8b",
   "metadata": {},
   "outputs": [
    {
     "data": {
      "text/html": [
       "<div>\n",
       "<style scoped>\n",
       "    .dataframe tbody tr th:only-of-type {\n",
       "        vertical-align: middle;\n",
       "    }\n",
       "\n",
       "    .dataframe tbody tr th {\n",
       "        vertical-align: top;\n",
       "    }\n",
       "\n",
       "    .dataframe thead th {\n",
       "        text-align: right;\n",
       "    }\n",
       "</style>\n",
       "<table border=\"1\" class=\"dataframe\">\n",
       "  <thead>\n",
       "    <tr style=\"text-align: right;\">\n",
       "      <th></th>\n",
       "      <th>yr</th>\n",
       "      <th>holiday</th>\n",
       "      <th>workingday</th>\n",
       "      <th>temp</th>\n",
       "      <th>hum</th>\n",
       "      <th>windspeed</th>\n",
       "      <th>season_spring</th>\n",
       "      <th>season_summer</th>\n",
       "      <th>season_winter</th>\n",
       "      <th>mnth_Aug</th>\n",
       "      <th>mnth_Dec</th>\n",
       "      <th>mnth_Feb</th>\n",
       "      <th>mnth_Jan</th>\n",
       "      <th>mnth_Jul</th>\n",
       "      <th>mnth_Jun</th>\n",
       "      <th>mnth_Mar</th>\n",
       "      <th>mnth_May</th>\n",
       "      <th>mnth_Nov</th>\n",
       "      <th>mnth_Oct</th>\n",
       "      <th>mnth_Sep</th>\n",
       "      <th>weekday_Mon</th>\n",
       "      <th>weekday_Sat</th>\n",
       "      <th>weekday_Sun</th>\n",
       "      <th>weekday_Thurs</th>\n",
       "      <th>weekday_Tues</th>\n",
       "      <th>weekday_Wed</th>\n",
       "      <th>weathersit_cloudy</th>\n",
       "      <th>weathersit_light-rain</th>\n",
       "    </tr>\n",
       "  </thead>\n",
       "  <tbody>\n",
       "    <tr>\n",
       "      <th>576</th>\n",
       "      <td>1</td>\n",
       "      <td>0</td>\n",
       "      <td>1</td>\n",
       "      <td>0.815169</td>\n",
       "      <td>0.725633</td>\n",
       "      <td>0.264686</td>\n",
       "      <td>0</td>\n",
       "      <td>0</td>\n",
       "      <td>0</td>\n",
       "      <td>0</td>\n",
       "      <td>0</td>\n",
       "      <td>0</td>\n",
       "      <td>0</td>\n",
       "      <td>1</td>\n",
       "      <td>0</td>\n",
       "      <td>0</td>\n",
       "      <td>0</td>\n",
       "      <td>0</td>\n",
       "      <td>0</td>\n",
       "      <td>0</td>\n",
       "      <td>0</td>\n",
       "      <td>0</td>\n",
       "      <td>0</td>\n",
       "      <td>1</td>\n",
       "      <td>0</td>\n",
       "      <td>0</td>\n",
       "      <td>0</td>\n",
       "      <td>0</td>\n",
       "    </tr>\n",
       "    <tr>\n",
       "      <th>426</th>\n",
       "      <td>1</td>\n",
       "      <td>0</td>\n",
       "      <td>0</td>\n",
       "      <td>0.442393</td>\n",
       "      <td>0.640189</td>\n",
       "      <td>0.255342</td>\n",
       "      <td>1</td>\n",
       "      <td>0</td>\n",
       "      <td>0</td>\n",
       "      <td>0</td>\n",
       "      <td>0</td>\n",
       "      <td>0</td>\n",
       "      <td>0</td>\n",
       "      <td>0</td>\n",
       "      <td>0</td>\n",
       "      <td>1</td>\n",
       "      <td>0</td>\n",
       "      <td>0</td>\n",
       "      <td>0</td>\n",
       "      <td>0</td>\n",
       "      <td>1</td>\n",
       "      <td>0</td>\n",
       "      <td>0</td>\n",
       "      <td>0</td>\n",
       "      <td>0</td>\n",
       "      <td>0</td>\n",
       "      <td>1</td>\n",
       "      <td>0</td>\n",
       "    </tr>\n",
       "  </tbody>\n",
       "</table>\n",
       "</div>"
      ],
      "text/plain": [
       "     yr  holiday  workingday      temp       hum  windspeed  season_spring  \\\n",
       "576   1        0           1  0.815169  0.725633   0.264686              0   \n",
       "426   1        0           0  0.442393  0.640189   0.255342              1   \n",
       "\n",
       "     season_summer  season_winter  mnth_Aug  mnth_Dec  mnth_Feb  mnth_Jan  \\\n",
       "576              0              0         0         0         0         0   \n",
       "426              0              0         0         0         0         0   \n",
       "\n",
       "     mnth_Jul  mnth_Jun  mnth_Mar  mnth_May  mnth_Nov  mnth_Oct  mnth_Sep  \\\n",
       "576         1         0         0         0         0         0         0   \n",
       "426         0         0         1         0         0         0         0   \n",
       "\n",
       "     weekday_Mon  weekday_Sat  weekday_Sun  weekday_Thurs  weekday_Tues  \\\n",
       "576            0            0            0              1             0   \n",
       "426            1            0            0              0             0   \n",
       "\n",
       "     weekday_Wed  weathersit_cloudy  weathersit_light-rain  \n",
       "576            0                  0                      0  \n",
       "426            0                  1                      0  "
      ]
     },
     "execution_count": 32,
     "metadata": {},
     "output_type": "execute_result"
    }
   ],
   "source": [
    "x_train.head(2)"
   ]
  },
  {
   "cell_type": "code",
   "execution_count": 33,
   "id": "14f1957e-d5af-44d9-a972-5714ae86c928",
   "metadata": {},
   "outputs": [
    {
     "data": {
      "text/plain": [
       "576    0.827658\n",
       "426    0.465255\n",
       "Name: cnt, dtype: float64"
      ]
     },
     "execution_count": 33,
     "metadata": {},
     "output_type": "execute_result"
    }
   ],
   "source": [
    "y_train.head(2)"
   ]
  },
  {
   "cell_type": "markdown",
   "id": "2ac9044c-3d26-436a-b0ef-8659f5e134cc",
   "metadata": {},
   "source": [
    "#### Writing generic functions for LR model creation & VIF's"
   ]
  },
  {
   "cell_type": "code",
   "execution_count": 34,
   "id": "3dd4a483-851b-4ecf-b04b-041f32ddfa4a",
   "metadata": {},
   "outputs": [],
   "source": [
    "import statsmodels.api as sm\n",
    "\n",
    "# a function to build a linear regression model for a given X,y\n",
    "def build_lr_model(x_train, y_train):\n",
    "    # add a constant\n",
    "    x_trainc = sm.add_constant(x_train)\n",
    "\n",
    "    # Build a LR model\n",
    "    lr_model = sm.OLS(y_train, x_trainc)\n",
    "    lr = lr_model.fit()\n",
    "    return lr   "
   ]
  },
  {
   "cell_type": "code",
   "execution_count": 35,
   "id": "488c1227-943f-4fd1-ab66-af7b1af1d3a4",
   "metadata": {},
   "outputs": [],
   "source": [
    "# Check for the VIF values of the feature variables. \n",
    "from statsmodels.stats.outliers_influence import variance_inflation_factor\n",
    "\n",
    "# Create a dataframe that will contain the names of all the feature variables and their respective VIFs\n",
    "def print_vifs(x_train):\n",
    "    vif = pd.DataFrame()\n",
    "    vif['Features'] = x_train.columns\n",
    "    vif['VIF'] = [variance_inflation_factor(x_train.values, i) for i in range(x_train.shape[1])]\n",
    "    vif['VIF'] = round(vif['VIF'], 2)\n",
    "    vif = vif.sort_values(by = \"VIF\", ascending = False)\n",
    "    print(vif)"
   ]
  },
  {
   "cell_type": "markdown",
   "id": "5f9cc2ef-39c8-41b9-acfa-82f83fa72e7a",
   "metadata": {},
   "source": [
    "#### Iteration 1 : Checking the Regression results with all the variables\n",
    "LR model with all the variables will act as a base model against which we can compare say the drop in R-sq and other params."
   ]
  },
  {
   "cell_type": "code",
   "execution_count": 36,
   "id": "c5f84ff0-6733-4dd1-9ebe-e4c96f54513e",
   "metadata": {},
   "outputs": [
    {
     "name": "stdout",
     "output_type": "stream",
     "text": [
      "                            OLS Regression Results                            \n",
      "==============================================================================\n",
      "Dep. Variable:                    cnt   R-squared:                       0.853\n",
      "Model:                            OLS   Adj. R-squared:                  0.844\n",
      "Method:                 Least Squares   F-statistic:                     103.2\n",
      "Date:                Wed, 29 May 2024   Prob (F-statistic):          3.00e-181\n",
      "Time:                        14:33:40   Log-Likelihood:                 527.03\n",
      "No. Observations:                 510   AIC:                            -998.1\n",
      "Df Residuals:                     482   BIC:                            -879.5\n",
      "Df Model:                          27                                         \n",
      "Covariance Type:            nonrobust                                         \n",
      "=========================================================================================\n",
      "                            coef    std err          t      P>|t|      [0.025      0.975]\n",
      "-----------------------------------------------------------------------------------------\n",
      "const                     0.2409      0.036      6.786      0.000       0.171       0.311\n",
      "yr                        0.2324      0.008     28.819      0.000       0.217       0.248\n",
      "holiday                   0.0067      0.024      0.278      0.781      -0.041       0.054\n",
      "workingday                0.0929      0.012      7.707      0.000       0.069       0.117\n",
      "temp                      0.4454      0.046      9.628      0.000       0.354       0.536\n",
      "hum                      -0.1515      0.039     -3.929      0.000      -0.227      -0.076\n",
      "windspeed                -0.1860      0.026     -7.226      0.000      -0.237      -0.135\n",
      "season_spring            -0.0448      0.030     -1.496      0.135      -0.104       0.014\n",
      "season_summer             0.0430      0.026      1.645      0.101      -0.008       0.094\n",
      "season_winter             0.1076      0.028      3.853      0.000       0.053       0.163\n",
      "mnth_Aug                  0.0204      0.034      0.607      0.544      -0.046       0.086\n",
      "mnth_Dec                 -0.0443      0.034     -1.317      0.189      -0.110       0.022\n",
      "mnth_Feb                 -0.0324      0.033     -0.985      0.325      -0.097       0.032\n",
      "mnth_Jan                 -0.0633      0.034     -1.885      0.060      -0.129       0.003\n",
      "mnth_Jul                 -0.0338      0.035     -0.969      0.333      -0.102       0.035\n",
      "mnth_Jun                  0.0046      0.025      0.186      0.853      -0.044       0.053\n",
      "mnth_Mar                  0.0013      0.025      0.052      0.959      -0.047       0.050\n",
      "mnth_May                  0.0247      0.021      1.173      0.241      -0.017       0.066\n",
      "mnth_Nov                 -0.0399      0.036     -1.096      0.274      -0.111       0.032\n",
      "mnth_Oct                  0.0075      0.036      0.210      0.834      -0.063       0.078\n",
      "mnth_Sep                  0.0859      0.032      2.692      0.007       0.023       0.149\n",
      "weekday_Mon               0.0978      0.014      7.231      0.000       0.071       0.124\n",
      "weekday_Sat              -0.0036      0.015     -0.248      0.804      -0.032       0.025\n",
      "weekday_Sun               0.0055      0.015      0.368      0.713      -0.024       0.035\n",
      "weekday_Thurs            -0.0124      0.015     -0.844      0.399      -0.041       0.017\n",
      "weekday_Tues              0.0435      0.014      3.173      0.002       0.017       0.070\n",
      "weekday_Wed              -0.0154      0.015     -1.057      0.291      -0.044       0.013\n",
      "weathersit_cloudy        -0.0596      0.010     -5.709      0.000      -0.080      -0.039\n",
      "weathersit_light-rain    -0.2558      0.026     -9.699      0.000      -0.308      -0.204\n",
      "==============================================================================\n",
      "Omnibus:                       83.722   Durbin-Watson:                   2.049\n",
      "Prob(Omnibus):                  0.000   Jarque-Bera (JB):              231.841\n",
      "Skew:                          -0.799   Prob(JB):                     4.53e-51\n",
      "Kurtosis:                       5.891   Cond. No.                     6.92e+15\n",
      "==============================================================================\n",
      "\n",
      "Notes:\n",
      "[1] Standard Errors assume that the covariance matrix of the errors is correctly specified.\n",
      "[2] The smallest eigenvalue is 3.31e-29. This might indicate that there are\n",
      "strong multicollinearity problems or that the design matrix is singular.\n"
     ]
    }
   ],
   "source": [
    "lr = build_lr_model(x_train, y_train)\n",
    "print(lr.summary())"
   ]
  },
  {
   "cell_type": "code",
   "execution_count": 37,
   "id": "fb115069-bfee-4c3e-bf78-c271ff00de4c",
   "metadata": {},
   "outputs": [
    {
     "name": "stdout",
     "output_type": "stream",
     "text": [
      "                 Features    VIF\n",
      "2              workingday  86.77\n",
      "20            weekday_Mon  19.71\n",
      "24           weekday_Tues  18.34\n",
      "6           season_spring  10.75\n",
      "8           season_winter   9.44\n",
      "7           season_summer   8.27\n",
      "3                    temp   7.08\n",
      "17               mnth_Nov   6.79\n",
      "18               mnth_Oct   6.47\n",
      "9                mnth_Aug   6.36\n",
      "12               mnth_Jan   5.90\n",
      "10               mnth_Dec   5.68\n",
      "13               mnth_Jul   5.60\n",
      "19               mnth_Sep   4.90\n",
      "1                 holiday   4.59\n",
      "11               mnth_Feb   4.39\n",
      "15               mnth_Mar   3.47\n",
      "14               mnth_Jun   2.81\n",
      "16               mnth_May   2.22\n",
      "4                     hum   2.05\n",
      "25            weekday_Wed   1.78\n",
      "21            weekday_Sat   1.62\n",
      "22            weekday_Sun   1.61\n",
      "23          weekday_Thurs   1.61\n",
      "26      weathersit_cloudy   1.60\n",
      "27  weathersit_light-rain   1.29\n",
      "5               windspeed   1.24\n",
      "0                      yr   1.06\n"
     ]
    }
   ],
   "source": [
    "print_vifs(x_train)  "
   ]
  },
  {
   "cell_type": "markdown",
   "id": "0ca446af-bfcb-462e-86b4-33dc06ad40e1",
   "metadata": {},
   "source": [
    "#### Using RFE\n",
    "As seen in the above base model, we have variables with high p-value & high vif's. So we need an automatic feature elimination method as the number of variables is large. Lets use RFE for feature selection."
   ]
  },
  {
   "cell_type": "code",
   "execution_count": 38,
   "id": "52e33ea2-bd1d-4e13-b744-580c65b0ec90",
   "metadata": {},
   "outputs": [],
   "source": [
    "# Importing RFE and LinearRegression\n",
    "from sklearn.feature_selection import RFE\n",
    "from sklearn.linear_model import LinearRegression"
   ]
  },
  {
   "cell_type": "code",
   "execution_count": 39,
   "id": "30f9a929-740b-4a63-ac11-a9c99ab2ff68",
   "metadata": {},
   "outputs": [],
   "source": [
    "# Running RFE with the output number of the variable equal to 14\n",
    "lm = LinearRegression()\n",
    "lm.fit(x_train, y_train)\n",
    "\n",
    "rfe = RFE(estimator=lm, n_features_to_select=13)             \n",
    "rfe = rfe.fit(x_train, y_train)"
   ]
  },
  {
   "cell_type": "code",
   "execution_count": 40,
   "id": "9d80ba48-1e2a-403d-8488-1dd73c34cde5",
   "metadata": {},
   "outputs": [
    {
     "data": {
      "text/plain": [
       "[('yr', True, 1),\n",
       " ('holiday', True, 1),\n",
       " ('workingday', True, 1),\n",
       " ('temp', True, 1),\n",
       " ('hum', True, 1),\n",
       " ('windspeed', True, 1),\n",
       " ('season_spring', True, 1),\n",
       " ('season_summer', False, 3),\n",
       " ('season_winter', False, 2),\n",
       " ('mnth_Aug', False, 9),\n",
       " ('mnth_Dec', False, 6),\n",
       " ('mnth_Feb', False, 7),\n",
       " ('mnth_Jan', False, 4),\n",
       " ('mnth_Jul', True, 1),\n",
       " ('mnth_Jun', False, 14),\n",
       " ('mnth_Mar', False, 16),\n",
       " ('mnth_May', False, 8),\n",
       " ('mnth_Nov', False, 5),\n",
       " ('mnth_Oct', False, 12),\n",
       " ('mnth_Sep', True, 1),\n",
       " ('weekday_Mon', True, 1),\n",
       " ('weekday_Sat', False, 15),\n",
       " ('weekday_Sun', False, 13),\n",
       " ('weekday_Thurs', False, 11),\n",
       " ('weekday_Tues', True, 1),\n",
       " ('weekday_Wed', False, 10),\n",
       " ('weathersit_cloudy', True, 1),\n",
       " ('weathersit_light-rain', True, 1)]"
      ]
     },
     "execution_count": 40,
     "metadata": {},
     "output_type": "execute_result"
    }
   ],
   "source": [
    "list(zip(x_train.columns,rfe.support_,rfe.ranking_))"
   ]
  },
  {
   "cell_type": "code",
   "execution_count": 41,
   "id": "cdf8524c-b573-463d-8613-45e3e0d7caaa",
   "metadata": {},
   "outputs": [
    {
     "data": {
      "text/plain": [
       "Index(['yr', 'holiday', 'workingday', 'temp', 'hum', 'windspeed',\n",
       "       'season_spring', 'mnth_Jul', 'mnth_Sep', 'weekday_Mon', 'weekday_Tues',\n",
       "       'weathersit_cloudy', 'weathersit_light-rain'],\n",
       "      dtype='object')"
      ]
     },
     "execution_count": 41,
     "metadata": {},
     "output_type": "execute_result"
    }
   ],
   "source": [
    "# lets have a look at the selected features\n",
    "cols = x_train.columns[rfe.support_]\n",
    "cols"
   ]
  },
  {
   "cell_type": "code",
   "execution_count": 42,
   "id": "b8f0b722-d04e-4b84-ab51-311dc36a13cc",
   "metadata": {},
   "outputs": [
    {
     "data": {
      "text/plain": [
       "Index(['season_summer', 'season_winter', 'mnth_Aug', 'mnth_Dec', 'mnth_Feb',\n",
       "       'mnth_Jan', 'mnth_Jun', 'mnth_Mar', 'mnth_May', 'mnth_Nov', 'mnth_Oct',\n",
       "       'weekday_Sat', 'weekday_Sun', 'weekday_Thurs', 'weekday_Wed'],\n",
       "      dtype='object')"
      ]
     },
     "execution_count": 42,
     "metadata": {},
     "output_type": "execute_result"
    }
   ],
   "source": [
    "# lets have a look at the features eliminated with RFE\n",
    "x_train.columns[~rfe.support_]"
   ]
  },
  {
   "cell_type": "markdown",
   "id": "52834e94-c225-4598-bfc5-cdfbf69a1237",
   "metadata": {},
   "source": [
    "#### Iteration 2 :Checking the Regression results with reduced columns"
   ]
  },
  {
   "cell_type": "code",
   "execution_count": 43,
   "id": "ccb128d9-a631-4a4f-9b4c-b38594f77f4d",
   "metadata": {},
   "outputs": [
    {
     "name": "stdout",
     "output_type": "stream",
     "text": [
      "                            OLS Regression Results                            \n",
      "==============================================================================\n",
      "Dep. Variable:                    cnt   R-squared:                       0.836\n",
      "Model:                            OLS   Adj. R-squared:                  0.832\n",
      "Method:                 Least Squares   F-statistic:                     211.8\n",
      "Date:                Wed, 29 May 2024   Prob (F-statistic):          1.40e-186\n",
      "Time:                        14:33:42   Log-Likelihood:                 500.58\n",
      "No. Observations:                 510   AIC:                            -975.2\n",
      "Df Residuals:                     497   BIC:                            -920.1\n",
      "Df Model:                          12                                         \n",
      "Covariance Type:            nonrobust                                         \n",
      "=========================================================================================\n",
      "                            coef    std err          t      P>|t|      [0.025      0.975]\n",
      "-----------------------------------------------------------------------------------------\n",
      "const                     0.2830      0.024     11.730      0.000       0.236       0.330\n",
      "yr                        0.2328      0.008     28.189      0.000       0.217       0.249\n",
      "holiday                   0.0067      0.021      0.312      0.755      -0.036       0.049\n",
      "workingday                0.1019      0.009     10.942      0.000       0.084       0.120\n",
      "temp                      0.4015      0.026     15.408      0.000       0.350       0.453\n",
      "hum                      -0.1165      0.038     -3.090      0.002      -0.191      -0.042\n",
      "windspeed                -0.1762      0.026     -6.793      0.000      -0.227      -0.125\n",
      "season_spring            -0.1480      0.012    -12.168      0.000      -0.172      -0.124\n",
      "mnth_Jul                 -0.0777      0.017     -4.458      0.000      -0.112      -0.043\n",
      "mnth_Sep                  0.0572      0.016      3.635      0.000       0.026       0.088\n",
      "weekday_Mon               0.1133      0.011      9.902      0.000       0.091       0.136\n",
      "weekday_Tues              0.0611      0.012      5.069      0.000       0.037       0.085\n",
      "weathersit_cloudy        -0.0638      0.011     -6.009      0.000      -0.085      -0.043\n",
      "weathersit_light-rain    -0.2491      0.027     -9.272      0.000      -0.302      -0.196\n",
      "==============================================================================\n",
      "Omnibus:                       49.026   Durbin-Watson:                   2.053\n",
      "Prob(Omnibus):                  0.000   Jarque-Bera (JB):              110.655\n",
      "Skew:                          -0.527   Prob(JB):                     9.36e-25\n",
      "Kurtosis:                       5.024   Cond. No.                     7.82e+15\n",
      "==============================================================================\n",
      "\n",
      "Notes:\n",
      "[1] Standard Errors assume that the covariance matrix of the errors is correctly specified.\n",
      "[2] The smallest eigenvalue is 2.37e-29. This might indicate that there are\n",
      "strong multicollinearity problems or that the design matrix is singular.\n"
     ]
    }
   ],
   "source": [
    "x_train = df_train[cols]\n",
    "lr = build_lr_model(x_train, y_train)\n",
    "print(lr.summary())"
   ]
  },
  {
   "cell_type": "code",
   "execution_count": 44,
   "id": "3cfc255f-7a0a-417f-a8f1-cb9d0ad5525d",
   "metadata": {},
   "outputs": [
    {
     "name": "stdout",
     "output_type": "stream",
     "text": [
      "                 Features    VIF\n",
      "2              workingday  36.14\n",
      "9             weekday_Mon   8.81\n",
      "10           weekday_Tues   8.60\n",
      "1                 holiday   2.31\n",
      "3                    temp   2.09\n",
      "4                     hum   1.82\n",
      "6           season_spring   1.65\n",
      "11      weathersit_cloudy   1.54\n",
      "7                mnth_Jul   1.30\n",
      "12  weathersit_light-rain   1.25\n",
      "5               windspeed   1.17\n",
      "8                mnth_Sep   1.11\n",
      "0                      yr   1.03\n"
     ]
    }
   ],
   "source": [
    "print_vifs(x_train)  "
   ]
  },
  {
   "cell_type": "markdown",
   "id": "0fa641c8-f6c8-464d-aadf-386c95246d3a",
   "metadata": {},
   "source": [
    "#### Iteration 3 : Checking the Regression results after dropping 'workingday'"
   ]
  },
  {
   "cell_type": "code",
   "execution_count": 45,
   "id": "c314c2ed-d1c3-4994-8658-59ccb7578f8b",
   "metadata": {},
   "outputs": [
    {
     "name": "stdout",
     "output_type": "stream",
     "text": [
      "                            OLS Regression Results                            \n",
      "==============================================================================\n",
      "Dep. Variable:                    cnt   R-squared:                       0.836\n",
      "Model:                            OLS   Adj. R-squared:                  0.832\n",
      "Method:                 Least Squares   F-statistic:                     211.8\n",
      "Date:                Wed, 29 May 2024   Prob (F-statistic):          1.40e-186\n",
      "Time:                        14:33:42   Log-Likelihood:                 500.58\n",
      "No. Observations:                 510   AIC:                            -975.2\n",
      "Df Residuals:                     497   BIC:                            -920.1\n",
      "Df Model:                          12                                         \n",
      "Covariance Type:            nonrobust                                         \n",
      "=========================================================================================\n",
      "                            coef    std err          t      P>|t|      [0.025      0.975]\n",
      "-----------------------------------------------------------------------------------------\n",
      "const                     0.3849      0.030     12.948      0.000       0.327       0.443\n",
      "yr                        0.2328      0.008     28.189      0.000       0.217       0.249\n",
      "holiday                  -0.0952      0.026     -3.643      0.000      -0.147      -0.044\n",
      "temp                      0.4015      0.026     15.408      0.000       0.350       0.453\n",
      "hum                      -0.1165      0.038     -3.090      0.002      -0.191      -0.042\n",
      "windspeed                -0.1762      0.026     -6.793      0.000      -0.227      -0.125\n",
      "season_spring            -0.1480      0.012    -12.168      0.000      -0.172      -0.124\n",
      "mnth_Jul                 -0.0777      0.017     -4.458      0.000      -0.112      -0.043\n",
      "mnth_Sep                  0.0572      0.016      3.635      0.000       0.026       0.088\n",
      "weekday_Mon               0.0114      0.011      0.995      0.320      -0.011       0.034\n",
      "weekday_Tues             -0.0408      0.012     -3.425      0.001      -0.064      -0.017\n",
      "weathersit_cloudy        -0.0638      0.011     -6.009      0.000      -0.085      -0.043\n",
      "weathersit_light-rain    -0.2491      0.027     -9.272      0.000      -0.302      -0.196\n",
      "==============================================================================\n",
      "Omnibus:                       49.026   Durbin-Watson:                   2.053\n",
      "Prob(Omnibus):                  0.000   Jarque-Bera (JB):              110.655\n",
      "Skew:                          -0.527   Prob(JB):                     9.36e-25\n",
      "Kurtosis:                       5.024   Cond. No.                         18.4\n",
      "==============================================================================\n",
      "\n",
      "Notes:\n",
      "[1] Standard Errors assume that the covariance matrix of the errors is correctly specified.\n"
     ]
    }
   ],
   "source": [
    "# We know that Multicollinearity affects the coefficients and p-values, but it does not influence the predictions, precision of the predictions, and \n",
    "# the goodness-of-fit statistics. We see that 'holiday' has high p-value, but then we see some variables with high vif's. So, first we drop the cols\n",
    "# with high vif (& as expected we see later that high p-value of 'holiday' is gone. We see that 'workingday' has a high vif value, So its better to \n",
    "# drop it. Also from the barplots, we have seen that 'workingday' doesn't have much impact on 'cnt'\n",
    "x_train = x_train.drop(['workingday'], axis = 1)\n",
    "lr = build_lr_model(x_train, y_train)\n",
    "print(lr.summary())"
   ]
  },
  {
   "cell_type": "code",
   "execution_count": 46,
   "id": "870153e6-7a5a-448a-85af-2f5a4e97ee07",
   "metadata": {},
   "outputs": [
    {
     "name": "stdout",
     "output_type": "stream",
     "text": [
      "                 Features    VIF\n",
      "3                     hum  15.40\n",
      "2                    temp  11.92\n",
      "4               windspeed   4.00\n",
      "10      weathersit_cloudy   2.14\n",
      "0                      yr   2.03\n",
      "5           season_spring   1.85\n",
      "6                mnth_Jul   1.40\n",
      "9            weekday_Tues   1.23\n",
      "8             weekday_Mon   1.22\n",
      "11  weathersit_light-rain   1.21\n",
      "7                mnth_Sep   1.20\n",
      "1                 holiday   1.05\n"
     ]
    }
   ],
   "source": [
    "print_vifs(x_train)  "
   ]
  },
  {
   "cell_type": "markdown",
   "id": "dd125bb4-535c-4316-b1df-a4e99b1e5862",
   "metadata": {},
   "source": [
    "#### Iteration 3 : Checking the Regression results after dropping 'hum'"
   ]
  },
  {
   "cell_type": "code",
   "execution_count": 47,
   "id": "74bbe1fe-ea46-4939-bd8c-595ee06c250c",
   "metadata": {},
   "outputs": [
    {
     "name": "stdout",
     "output_type": "stream",
     "text": [
      "                            OLS Regression Results                            \n",
      "==============================================================================\n",
      "Dep. Variable:                    cnt   R-squared:                       0.833\n",
      "Model:                            OLS   Adj. R-squared:                  0.830\n",
      "Method:                 Least Squares   F-statistic:                     226.3\n",
      "Date:                Wed, 29 May 2024   Prob (F-statistic):          1.01e-185\n",
      "Time:                        14:33:42   Log-Likelihood:                 495.72\n",
      "No. Observations:                 510   AIC:                            -967.4\n",
      "Df Residuals:                     498   BIC:                            -916.6\n",
      "Df Model:                          11                                         \n",
      "Covariance Type:            nonrobust                                         \n",
      "=========================================================================================\n",
      "                            coef    std err          t      P>|t|      [0.025      0.975]\n",
      "-----------------------------------------------------------------------------------------\n",
      "const                     0.3140      0.019     16.485      0.000       0.277       0.351\n",
      "yr                        0.2355      0.008     28.421      0.000       0.219       0.252\n",
      "holiday                  -0.0967      0.026     -3.670      0.000      -0.148      -0.045\n",
      "temp                      0.3885      0.026     14.979      0.000       0.338       0.439\n",
      "windspeed                -0.1522      0.025     -6.098      0.000      -0.201      -0.103\n",
      "season_spring            -0.1458      0.012    -11.905      0.000      -0.170      -0.122\n",
      "mnth_Jul                 -0.0720      0.017     -4.118      0.000      -0.106      -0.038\n",
      "mnth_Sep                  0.0548      0.016      3.458      0.001       0.024       0.086\n",
      "weekday_Mon               0.0126      0.012      1.085      0.279      -0.010       0.035\n",
      "weekday_Tues             -0.0434      0.012     -3.622      0.000      -0.067      -0.020\n",
      "weathersit_cloudy        -0.0824      0.009     -9.337      0.000      -0.100      -0.065\n",
      "weathersit_light-rain    -0.2825      0.025    -11.379      0.000      -0.331      -0.234\n",
      "==============================================================================\n",
      "Omnibus:                       53.073   Durbin-Watson:                   2.049\n",
      "Prob(Omnibus):                  0.000   Jarque-Bera (JB):              120.727\n",
      "Skew:                          -0.566   Prob(JB):                     6.09e-27\n",
      "Kurtosis:                       5.097   Cond. No.                         11.4\n",
      "==============================================================================\n",
      "\n",
      "Notes:\n",
      "[1] Standard Errors assume that the covariance matrix of the errors is correctly specified.\n"
     ]
    }
   ],
   "source": [
    "# from above, we see that though 'hum' has a p-value of 0, but it has a high vif, So its better to drop it. \n",
    "# Also from the plots, we have seen that humidity doesn't have much impact on 'cnt'\n",
    "x_train = x_train.drop(['hum'], axis = 1)\n",
    "lr = build_lr_model(x_train, y_train)\n",
    "print(lr.summary())"
   ]
  },
  {
   "cell_type": "code",
   "execution_count": 48,
   "id": "cd8d1dbd-37fb-4d96-8f07-582c88702e88",
   "metadata": {},
   "outputs": [
    {
     "name": "stdout",
     "output_type": "stream",
     "text": [
      "                 Features   VIF\n",
      "2                    temp  4.73\n",
      "3               windspeed  3.89\n",
      "0                      yr  2.03\n",
      "4           season_spring  1.54\n",
      "9       weathersit_cloudy  1.49\n",
      "5                mnth_Jul  1.33\n",
      "7             weekday_Mon  1.21\n",
      "6                mnth_Sep  1.20\n",
      "8            weekday_Tues  1.19\n",
      "10  weathersit_light-rain  1.06\n",
      "1                 holiday  1.04\n"
     ]
    }
   ],
   "source": [
    "print_vifs(x_train)  "
   ]
  },
  {
   "cell_type": "markdown",
   "id": "408983ff-af8e-4ad7-8b0f-05b24cdd8e72",
   "metadata": {},
   "source": [
    "#### Iteration 3 : Checking the Regression results after dropping 'weekday_Mon'"
   ]
  },
  {
   "cell_type": "code",
   "execution_count": 49,
   "id": "0b6cd02c-4f10-4643-86af-e5aab37b73d1",
   "metadata": {},
   "outputs": [
    {
     "name": "stdout",
     "output_type": "stream",
     "text": [
      "                            OLS Regression Results                            \n",
      "==============================================================================\n",
      "Dep. Variable:                    cnt   R-squared:                       0.833\n",
      "Model:                            OLS   Adj. R-squared:                  0.830\n",
      "Method:                 Least Squares   F-statistic:                     248.7\n",
      "Date:                Wed, 29 May 2024   Prob (F-statistic):          1.12e-186\n",
      "Time:                        14:33:43   Log-Likelihood:                 495.12\n",
      "No. Observations:                 510   AIC:                            -968.2\n",
      "Df Residuals:                     499   BIC:                            -921.7\n",
      "Df Model:                          10                                         \n",
      "Covariance Type:            nonrobust                                         \n",
      "=========================================================================================\n",
      "                            coef    std err          t      P>|t|      [0.025      0.975]\n",
      "-----------------------------------------------------------------------------------------\n",
      "const                     0.3168      0.019     16.779      0.000       0.280       0.354\n",
      "yr                        0.2352      0.008     28.397      0.000       0.219       0.251\n",
      "holiday                  -0.0992      0.026     -3.776      0.000      -0.151      -0.048\n",
      "temp                      0.3872      0.026     14.944      0.000       0.336       0.438\n",
      "windspeed                -0.1510      0.025     -6.055      0.000      -0.200      -0.102\n",
      "season_spring            -0.1459      0.012    -11.914      0.000      -0.170      -0.122\n",
      "mnth_Jul                 -0.0715      0.017     -4.091      0.000      -0.106      -0.037\n",
      "mnth_Sep                  0.0550      0.016      3.467      0.001       0.024       0.086\n",
      "weekday_Tues             -0.0458      0.012     -3.884      0.000      -0.069      -0.023\n",
      "weathersit_cloudy        -0.0825      0.009     -9.341      0.000      -0.100      -0.065\n",
      "weathersit_light-rain    -0.2824      0.025    -11.374      0.000      -0.331      -0.234\n",
      "==============================================================================\n",
      "Omnibus:                       49.351   Durbin-Watson:                   2.050\n",
      "Prob(Omnibus):                  0.000   Jarque-Bera (JB):              117.588\n",
      "Skew:                          -0.512   Prob(JB):                     2.92e-26\n",
      "Kurtosis:                       5.118   Cond. No.                         11.3\n",
      "==============================================================================\n",
      "\n",
      "Notes:\n",
      "[1] Standard Errors assume that the covariance matrix of the errors is correctly specified.\n"
     ]
    }
   ],
   "source": [
    "# from above, we see that 'weekday_Mon' has a high p-value, so its better to drop it. \n",
    "x_train = x_train.drop(['weekday_Mon'], axis = 1)\n",
    "lr = build_lr_model(x_train, y_train)\n",
    "print(lr.summary())"
   ]
  },
  {
   "cell_type": "code",
   "execution_count": 50,
   "id": "7de116ac-f0b8-4935-8fef-8c07a71df257",
   "metadata": {},
   "outputs": [
    {
     "name": "stdout",
     "output_type": "stream",
     "text": [
      "                Features   VIF\n",
      "2                   temp  4.67\n",
      "3              windspeed  3.84\n",
      "0                     yr  2.03\n",
      "4          season_spring  1.53\n",
      "8      weathersit_cloudy  1.49\n",
      "5               mnth_Jul  1.33\n",
      "6               mnth_Sep  1.20\n",
      "7           weekday_Tues  1.16\n",
      "9  weathersit_light-rain  1.06\n",
      "1                holiday  1.04\n"
     ]
    }
   ],
   "source": [
    "print_vifs(x_train)  "
   ]
  },
  {
   "cell_type": "markdown",
   "id": "108ed955-205b-49f7-a248-2d26534c41d0",
   "metadata": {},
   "source": [
    "**Observation** : \n",
    " - With this model, we see that the p-values of all the coefficients are less than 0.05. This shows that all the predictors are statistically significant.\n",
    " - All the VIF values are less than 5 which shows that the model doesn't have any severe multi-collinearity issues.\n",
    " - Also, with this model we are able to explain ~83% of the variance in target variable which is quite good.\n",
    " - Further, p-value of the f-statistic is very low which shows that the model is statistically significant.\n",
    " - All the parameters of this model seem well within range. Hence, we can possibly use this model for the prediction. Lets go ahead with the residual analysis to confirm that."
   ]
  },
  {
   "cell_type": "markdown",
   "id": "18a1ddba-2bf4-4436-9646-b52da6bbef78",
   "metadata": {},
   "source": [
    "## Residual Analysis"
   ]
  },
  {
   "cell_type": "code",
   "execution_count": 51,
   "id": "ec593f85-cef5-4b15-93c4-bf724a32365b",
   "metadata": {},
   "outputs": [],
   "source": [
    "x_trainc = sm.add_constant(x_train)\n",
    "y_train_pred = lr.predict(x_trainc)\n",
    "res = y_train - y_train_pred"
   ]
  },
  {
   "cell_type": "code",
   "execution_count": 52,
   "id": "14b21d09-3e5f-4376-ac11-343547777635",
   "metadata": {},
   "outputs": [
    {
     "data": {
      "image/png": "[encoded data removed]",
      "text/plain": [
       "<Figure size 500x300 with 1 Axes>"
      ]
     },
     "metadata": {},
     "output_type": "display_data"
    }
   ],
   "source": [
    "fig = plt.figure(figsize=(5,3))\n",
    "sns.distplot(res, bins = 15)\n",
    "fig.suptitle('Error Terms', fontsize = 10)                \n",
    "plt.xlabel('Errors', fontsize = 10)        \n",
    "plt.show()"
   ]
  },
  {
   "cell_type": "markdown",
   "id": "803fd0e1-87e1-4e19-aff6-6ff89bd3ecb4",
   "metadata": {},
   "source": [
    "__Observation : We see that the residuals are normally distributed with a mean 0 (which fulfills one of the major assumptions of linear regression).__"
   ]
  },
  {
   "cell_type": "code",
   "execution_count": 53,
   "id": "35fe6eb6-ab71-4893-a9f3-800b03bf35dd",
   "metadata": {},
   "outputs": [
    {
     "data": {
      "image/png": "[encoded data removed]",
      "text/plain": [
       "<Figure size 500x300 with 1 Axes>"
      ]
     },
     "metadata": {},
     "output_type": "display_data"
    }
   ],
   "source": [
    "fig = plt.figure(figsize=(5,3))\n",
    "sns.scatterplot(x = y_train_pred, y = res)\n",
    "plt.xlabel(\"y_train_pred\",fontsize=10)\n",
    "plt.ylabel(\"residuals\",fontsize=10)\n",
    "plt.show()"
   ]
  },
  {
   "cell_type": "markdown",
   "id": "9fb126e9-85ff-4189-a2cf-6d67bb6250bf",
   "metadata": {},
   "source": [
    "__Observation : As seen from above scatterplot, Residuals are independent of each other i.e. they do not exhibit any pattern. Also we see that they have constant variance. This fulfills another two assumptions of LR. Thus our model is good for the final prediction and testing.__"
   ]
  },
  {
   "cell_type": "markdown",
   "id": "ba83eff9-af72-4549-8c5d-d2f42dd70f55",
   "metadata": {},
   "source": [
    "## Model Evaluation"
   ]
  },
  {
   "cell_type": "code",
   "execution_count": 54,
   "id": "d3b71765-c8f5-4202-9817-6b4d3e9f4442",
   "metadata": {},
   "outputs": [
    {
     "data": {
      "text/html": [
       "<div>\n",
       "<style scoped>\n",
       "    .dataframe tbody tr th:only-of-type {\n",
       "        vertical-align: middle;\n",
       "    }\n",
       "\n",
       "    .dataframe tbody tr th {\n",
       "        vertical-align: top;\n",
       "    }\n",
       "\n",
       "    .dataframe thead th {\n",
       "        text-align: right;\n",
       "    }\n",
       "</style>\n",
       "<table border=\"1\" class=\"dataframe\">\n",
       "  <thead>\n",
       "    <tr style=\"text-align: right;\">\n",
       "      <th></th>\n",
       "      <th>yr</th>\n",
       "      <th>holiday</th>\n",
       "      <th>workingday</th>\n",
       "      <th>temp</th>\n",
       "      <th>hum</th>\n",
       "      <th>windspeed</th>\n",
       "      <th>cnt</th>\n",
       "      <th>season_spring</th>\n",
       "      <th>season_summer</th>\n",
       "      <th>season_winter</th>\n",
       "      <th>mnth_Aug</th>\n",
       "      <th>mnth_Dec</th>\n",
       "      <th>mnth_Feb</th>\n",
       "      <th>mnth_Jan</th>\n",
       "      <th>mnth_Jul</th>\n",
       "      <th>mnth_Jun</th>\n",
       "      <th>mnth_Mar</th>\n",
       "      <th>mnth_May</th>\n",
       "      <th>mnth_Nov</th>\n",
       "      <th>mnth_Oct</th>\n",
       "      <th>mnth_Sep</th>\n",
       "      <th>weekday_Mon</th>\n",
       "      <th>weekday_Sat</th>\n",
       "      <th>weekday_Sun</th>\n",
       "      <th>weekday_Thurs</th>\n",
       "      <th>weekday_Tues</th>\n",
       "      <th>weekday_Wed</th>\n",
       "      <th>weathersit_cloudy</th>\n",
       "      <th>weathersit_light-rain</th>\n",
       "    </tr>\n",
       "  </thead>\n",
       "  <tbody>\n",
       "    <tr>\n",
       "      <th>184</th>\n",
       "      <td>0</td>\n",
       "      <td>1</td>\n",
       "      <td>0</td>\n",
       "      <td>0.831783</td>\n",
       "      <td>0.657364</td>\n",
       "      <td>0.084219</td>\n",
       "      <td>0.692706</td>\n",
       "      <td>0</td>\n",
       "      <td>0</td>\n",
       "      <td>0</td>\n",
       "      <td>0</td>\n",
       "      <td>0</td>\n",
       "      <td>0</td>\n",
       "      <td>0</td>\n",
       "      <td>1</td>\n",
       "      <td>0</td>\n",
       "      <td>0</td>\n",
       "      <td>0</td>\n",
       "      <td>0</td>\n",
       "      <td>0</td>\n",
       "      <td>0</td>\n",
       "      <td>0</td>\n",
       "      <td>0</td>\n",
       "      <td>0</td>\n",
       "      <td>0</td>\n",
       "      <td>0</td>\n",
       "      <td>1</td>\n",
       "      <td>1</td>\n",
       "      <td>0</td>\n",
       "    </tr>\n",
       "    <tr>\n",
       "      <th>535</th>\n",
       "      <td>1</td>\n",
       "      <td>0</td>\n",
       "      <td>1</td>\n",
       "      <td>0.901354</td>\n",
       "      <td>0.610133</td>\n",
       "      <td>0.153728</td>\n",
       "      <td>0.712034</td>\n",
       "      <td>0</td>\n",
       "      <td>1</td>\n",
       "      <td>0</td>\n",
       "      <td>0</td>\n",
       "      <td>0</td>\n",
       "      <td>0</td>\n",
       "      <td>0</td>\n",
       "      <td>0</td>\n",
       "      <td>1</td>\n",
       "      <td>0</td>\n",
       "      <td>0</td>\n",
       "      <td>0</td>\n",
       "      <td>0</td>\n",
       "      <td>0</td>\n",
       "      <td>0</td>\n",
       "      <td>0</td>\n",
       "      <td>0</td>\n",
       "      <td>0</td>\n",
       "      <td>0</td>\n",
       "      <td>0</td>\n",
       "      <td>0</td>\n",
       "      <td>0</td>\n",
       "    </tr>\n",
       "    <tr>\n",
       "      <th>299</th>\n",
       "      <td>0</td>\n",
       "      <td>0</td>\n",
       "      <td>1</td>\n",
       "      <td>0.511964</td>\n",
       "      <td>0.837699</td>\n",
       "      <td>0.334206</td>\n",
       "      <td>0.303382</td>\n",
       "      <td>0</td>\n",
       "      <td>0</td>\n",
       "      <td>1</td>\n",
       "      <td>0</td>\n",
       "      <td>0</td>\n",
       "      <td>0</td>\n",
       "      <td>0</td>\n",
       "      <td>0</td>\n",
       "      <td>0</td>\n",
       "      <td>0</td>\n",
       "      <td>0</td>\n",
       "      <td>0</td>\n",
       "      <td>1</td>\n",
       "      <td>0</td>\n",
       "      <td>0</td>\n",
       "      <td>1</td>\n",
       "      <td>0</td>\n",
       "      <td>0</td>\n",
       "      <td>0</td>\n",
       "      <td>0</td>\n",
       "      <td>1</td>\n",
       "      <td>0</td>\n",
       "    </tr>\n",
       "  </tbody>\n",
       "</table>\n",
       "</div>"
      ],
      "text/plain": [
       "     yr  holiday  workingday      temp       hum  windspeed       cnt  \\\n",
       "184   0        1           0  0.831783  0.657364   0.084219  0.692706   \n",
       "535   1        0           1  0.901354  0.610133   0.153728  0.712034   \n",
       "299   0        0           1  0.511964  0.837699   0.334206  0.303382   \n",
       "\n",
       "     season_spring  season_summer  season_winter  mnth_Aug  mnth_Dec  \\\n",
       "184              0              0              0         0         0   \n",
       "535              0              1              0         0         0   \n",
       "299              0              0              1         0         0   \n",
       "\n",
       "     mnth_Feb  mnth_Jan  mnth_Jul  mnth_Jun  mnth_Mar  mnth_May  mnth_Nov  \\\n",
       "184         0         0         1         0         0         0         0   \n",
       "535         0         0         0         1         0         0         0   \n",
       "299         0         0         0         0         0         0         0   \n",
       "\n",
       "     mnth_Oct  mnth_Sep  weekday_Mon  weekday_Sat  weekday_Sun  weekday_Thurs  \\\n",
       "184         0         0            0            0            0              0   \n",
       "535         0         0            0            0            0              0   \n",
       "299         1         0            0            1            0              0   \n",
       "\n",
       "     weekday_Tues  weekday_Wed  weathersit_cloudy  weathersit_light-rain  \n",
       "184             0            1                  1                      0  \n",
       "535             0            0                  0                      0  \n",
       "299             0            0                  1                      0  "
      ]
     },
     "execution_count": 54,
     "metadata": {},
     "output_type": "execute_result"
    }
   ],
   "source": [
    "df_test.head(3)"
   ]
  },
  {
   "cell_type": "code",
   "execution_count": 55,
   "id": "58b0529d-6fa7-4362-a145-6832e39a4459",
   "metadata": {},
   "outputs": [],
   "source": [
    "x_test = df_test.drop(columns=['cnt'])\n",
    "y_test = df_test['cnt']\n",
    "\n",
    "# Creating another dataframe by dropping variables from x_test\n",
    "x_test = x_test[x_train.columns]\n",
    "\n",
    "# Adding a constant variable \n",
    "x_testc = sm.add_constant(x_test)"
   ]
  },
  {
   "cell_type": "code",
   "execution_count": 56,
   "id": "818c9b09-71bb-4049-bced-6e7272eb7fd0",
   "metadata": {},
   "outputs": [],
   "source": [
    "# Making predictions\n",
    "y_test_pred = lr.predict(x_testc)"
   ]
  },
  {
   "cell_type": "code",
   "execution_count": 57,
   "id": "d925ba01-4c32-4876-bd26-bc5ea42f5912",
   "metadata": {},
   "outputs": [
    {
     "data": {
      "image/png": "[encoded data removed]",
      "text/plain": [
       "<Figure size 500x300 with 1 Axes>"
      ]
     },
     "metadata": {},
     "output_type": "display_data"
    }
   ],
   "source": [
    "fig = plt.figure(figsize=(5,3))\n",
    "plt.scatter(y_test,y_test_pred)\n",
    "fig.suptitle('y_test vs y_test_pred', fontsize=15)              \n",
    "plt.xlabel('y_test', fontsize=10)                       \n",
    "plt.ylabel('y_test_pred', fontsize=10)\n",
    "plt.show()"
   ]
  },
  {
   "cell_type": "markdown",
   "id": "24bbd3ae-a87a-437b-aa7b-833ad4292646",
   "metadata": {},
   "source": [
    "#### Checking the R-sq on the test set"
   ]
  },
  {
   "cell_type": "code",
   "execution_count": 58,
   "id": "57326956-aa5f-41ca-b64a-20faefba4be2",
   "metadata": {},
   "outputs": [
    {
     "data": {
      "text/plain": [
       "0.8071278592960879"
      ]
     },
     "execution_count": 58,
     "metadata": {},
     "output_type": "execute_result"
    }
   ],
   "source": [
    "from sklearn.metrics import r2_score\n",
    "r_squared = r2_score(y_test, y_test_pred)\n",
    "r_squared"
   ]
  },
  {
   "cell_type": "markdown",
   "id": "93477597-5294-4a26-a9b0-c34750ba9ade",
   "metadata": {},
   "source": [
    "__Observation : From the above scatter plot and a R-sq value of 0.8, we observe that our LR model is working well on the test data.__"
   ]
  },
  {
   "cell_type": "markdown",
   "id": "cc69c7db-c747-41b0-9a2e-cd6946d34968",
   "metadata": {},
   "source": [
    "## Analysis Summary\n",
    "We have arrived at the final model (containing 10 variables) after few iterations where each iteration involved removal of variables with high p-value/VIF's. The final model was tested on the test data and was found to be performing well. Based on the final model,  following are the top 3 features contributing significantly towards explaining the demand of the shared bikes :\n",
    " - **temp** : As was also evident from the plots & correlation, temp is the feature with maximum impact on shared bikes demand.\n",
    " - **light-rain** : This is a dummy variable created from season and has a -ve coefficient. As expected as well, if it rains the bikes demand will go down. This behaviour is also seen from the bar-plot of weathersit against cnt.\n",
    " - **yr** : Since the bike-sharing systems are slowly gaining popularity, the demand for these bikes is increasing every year proving that the column 'yr' is a good variable for prediction.\n"
   ]
  }
 ],
 "metadata": {
  "kernelspec": {
   "display_name": "Python 3 (ipykernel)",
   "language": "python",
   "name": "python3"
  },
  "language_info": {
   "codemirror_mode": {
    "name": "ipython",
    "version": 3
   },
   "file_extension": ".py",
   "mimetype": "text/x-python",
   "name": "python",
   "nbconvert_exporter": "python",
   "pygments_lexer": "ipython3",
   "version": "3.12.3"
  }
 },
 "nbformat": 4,
 "nbformat_minor": 5
}
